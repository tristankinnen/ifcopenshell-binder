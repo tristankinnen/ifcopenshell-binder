{
 "cells": [
  {
   "cell_type": "markdown",
   "metadata": {},
   "source": [
    "## Displaying IFC documentation right in your notebook\n",
    "The helper class `utils.IfcHelp` allows you to quickly pull the official IFC docs intor your browser. Both versions 2x3 and  4 are supported through their respective `IfcHelp3(Enitity)` and `IfcHelp4(Enitity)` calls."
   ]
  },
  {
   "cell_type": "code",
   "execution_count": 7,
   "metadata": {},
   "outputs": [
    {
     "data": {
      "text/html": [
       "\n",
       "        <iframe\n",
       "            width=\"100%\"\n",
       "            height=\"500px\"\n",
       "            src=\"https://standards.buildingsmart.org/IFC/RELEASE/IFC4/ADD2_TC1/HTML/schema/ifcsharedbldgelements/lexical/ifcdoor.htm\"\n",
       "            frameborder=\"0\"\n",
       "            allowfullscreen\n",
       "        ></iframe>\n",
       "        "
      ],
      "text/plain": [
       "<IPython.lib.display.IFrame at 0x7f98d3282490>"
      ]
     },
     "execution_count": 7,
     "metadata": {},
     "output_type": "execute_result"
    }
   ],
   "source": [
    "import utils.IfcHelp as IfcHelp\n",
    "IfcHelp.getHelp4(\"ifcdoor\")"
   ]
  },
  {
   "cell_type": "code",
   "execution_count": 8,
   "metadata": {},
   "outputs": [],
   "source": [
    "import ifcopenshell"
   ]
  },
  {
   "cell_type": "code",
   "execution_count": 9,
   "metadata": {},
   "outputs": [],
   "source": [
    "m = ifcopenshell.open(\"../data/Duplex_A.ifc\")\n",
    "#m = ifcopenshell.open(\"../data/231110AC-11-Smiley-West-04-07-2007.ifc\")"
   ]
  },
  {
   "cell_type": "code",
   "execution_count": 10,
   "metadata": {},
   "outputs": [],
   "source": [
    "rooms = m.by_type(\"IfcSpace\")"
   ]
  },
  {
   "cell_type": "code",
   "execution_count": 11,
   "metadata": {},
   "outputs": [
    {
     "data": {
      "text/plain": [
       "21"
      ]
     },
     "execution_count": 11,
     "metadata": {},
     "output_type": "execute_result"
    }
   ],
   "source": [
    "len(rooms)"
   ]
  },
  {
   "cell_type": "code",
   "execution_count": 12,
   "metadata": {},
   "outputs": [],
   "source": [
    "r = rooms[2]"
   ]
  },
  {
   "cell_type": "code",
   "execution_count": 13,
   "metadata": {},
   "outputs": [
    {
     "data": {
      "text/plain": [
       "#1928=IfcSpace('0BTBFw6f90Nfh9rP1dl_3P',#33,'B104','',$,#1917,#1927,'Bathroom 1',.ELEMENT.,.INTERNAL.,$)"
      ]
     },
     "execution_count": 13,
     "metadata": {},
     "output_type": "execute_result"
    }
   ],
   "source": [
    "r"
   ]
  },
  {
   "cell_type": "code",
   "execution_count": 14,
   "metadata": {},
   "outputs": [
    {
     "data": {
      "text/plain": [
       "[#1931=IfcRelDefinesByProperties('1vwWpLunP7Z8FUDxnwGsLX',#33,$,$,(#1928),#1930),\n",
       " #2045=IfcRelDefinesByProperties('1jXMmAObv0Hu3Dpe4J75XR',#33,$,$,(#1928),#2044),\n",
       " #2071=IfcRelDefinesByProperties('1yk3uGxCn2xAd5LVDuWQpz',#33,$,$,(#1928),#2070),\n",
       " #2073=IfcRelDefinesByProperties('2Aev3rsmjERh$PzhdZ9sae',#33,$,$,(#1928),#2072),\n",
       " #2075=IfcRelDefinesByProperties('29A592s2zDtA8O1HY743gi',#33,$,$,(#1928),#2074),\n",
       " #2077=IfcRelDefinesByProperties('2EYry8dpj1aedcHhTWWR5_',#33,$,$,(#1928),#2076),\n",
       " #2079=IfcRelDefinesByProperties('0NaXw2iR1EBuKa8Xg1RIe1',#33,$,$,(#1928),#2078),\n",
       " #38297=IfcRelAggregates('2SL_IUiH54GP6$rzyEgw3l',#33,$,$,#39,(#67,#212,#355,#514,#1627,#1782,#1928,#2108,#3456,#3586)),\n",
       " #38804=IfcRelSpaceBoundary('3c$xyphFr0dwUMO2fin7Rk',#33,'1stLevel',$,#1928,#23671,#1941,.PHYSICAL.,.INTERNAL.),\n",
       " #38805=IfcRelSpaceBoundary('2c2En85dLEeB9F0b8J3_ve',#33,'1stLevel',$,#1928,#23768,#1952,.PHYSICAL.,.INTERNAL.),\n",
       " #38806=IfcRelSpaceBoundary('1zFkNKrw5EzuGg_6R0YeH3',#33,'1stLevel',$,#1928,#23826,#1963,.PHYSICAL.,.INTERNAL.),\n",
       " #38807=IfcRelSpaceBoundary('24DAyXxRXERuPWzgeBWpjg',#33,'1stLevel',$,#1928,#5165,#1985,.PHYSICAL.,.INTERNAL.),\n",
       " #38808=IfcRelSpaceBoundary('24o0FqPwj0txKWGEXS_7nD',#33,'1stLevel',$,#1928,#5165,#1986,.PHYSICAL.,.INTERNAL.),\n",
       " #38809=IfcRelSpaceBoundary('2hGbUOwNj5TR_8GqqAAJXu',#33,'1stLevel',$,#1928,#21545,#1997,.PHYSICAL.,.INTERNAL.),\n",
       " #38810=IfcRelSpaceBoundary('0RxjjfO$D2fw3NKvkDdDx2',#33,'1stLevel',$,#1928,#4219,#2004,.PHYSICAL.,.INTERNAL.),\n",
       " #38811=IfcRelSpaceBoundary('1nb93mV7H9TPktEdLEgrCV',#33,'1stLevel',$,#1928,#8169,#2011,.PHYSICAL.,.INTERNAL.),\n",
       " #38812=IfcRelSpaceBoundary('2F_V8bQAX2uAfdZ0QSu0pk',#33,'1stLevel',$,#1928,#4399,#2018,.PHYSICAL.,.EXTERNAL.),\n",
       " #38813=IfcRelSpaceBoundary('2egbDLoAX48uUHGh_Ss$na',#33,'1stLevel',$,#1928,#24680,#2025,.PHYSICAL.,.INTERNAL.),\n",
       " #38814=IfcRelSpaceBoundary('2Bqhax6nLEcfMw$nf$$v_v',#33,'1stLevel',$,#1928,#24680,#2032,.PHYSICAL.,.INTERNAL.),\n",
       " #38815=IfcRelSpaceBoundary('3V3Z94lIz7hxuzP2B5aZEz',#33,'1stLevel',$,#1928,#24723,#2039,.PHYSICAL.,.INTERNAL.)]"
      ]
     },
     "execution_count": 14,
     "metadata": {},
     "output_type": "execute_result"
    }
   ],
   "source": [
    "m.get_inverse(r)"
   ]
  },
  {
   "cell_type": "code",
   "execution_count": 15,
   "metadata": {},
   "outputs": [
    {
     "data": {
      "text/plain": [
       "#2044=IfcPropertySet('1QCvFS1aX1VArX3QmOThbz',#33,'Pset_SpaceCommon',$,(#2040,#2041,#2042,#2043))"
      ]
     },
     "execution_count": 15,
     "metadata": {},
     "output_type": "execute_result"
    }
   ],
   "source": [
    "r.IsDefinedBy[1].RelatingPropertyDefinition"
   ]
  },
  {
   "cell_type": "code",
   "execution_count": 16,
   "metadata": {},
   "outputs": [
    {
     "data": {
      "text/plain": [
       "[#1928=IfcSpace('0BTBFw6f90Nfh9rP1dl_3P',#33,'B104','',$,#1917,#1927,'Bathroom 1',.ELEMENT.,.INTERNAL.,$),\n",
       " #33=IfcOwnerHistory(#32,#2,$,.NOCHANGE.,$,$,$,0),\n",
       " #1917=IfcLocalPlacement(#38,#1916),\n",
       " #1927=IfcProductDefinitionShape($,$,(#1926))]"
      ]
     },
     "execution_count": 16,
     "metadata": {},
     "output_type": "execute_result"
    }
   ],
   "source": [
    "m.traverse(r, max_levels=1)"
   ]
  },
  {
   "cell_type": "markdown",
   "metadata": {},
   "source": [
    "## Visualizing the model graph"
   ]
  },
  {
   "cell_type": "code",
   "execution_count": 17,
   "metadata": {},
   "outputs": [
    {
     "data": {
      "text/plain": [
       "{'id': 1928,\n",
       " 'type': 'IfcSpace',\n",
       " 'GlobalId': '0BTBFw6f90Nfh9rP1dl_3P',\n",
       " 'OwnerHistory': #33=IfcOwnerHistory(#32,#2,$,.NOCHANGE.,$,$,$,0),\n",
       " 'Name': 'B104',\n",
       " 'Description': '',\n",
       " 'ObjectType': None,\n",
       " 'ObjectPlacement': #1917=IfcLocalPlacement(#38,#1916),\n",
       " 'Representation': #1927=IfcProductDefinitionShape($,$,(#1926)),\n",
       " 'LongName': 'Bathroom 1',\n",
       " 'CompositionType': 'ELEMENT',\n",
       " 'InteriorOrExteriorSpace': 'INTERNAL',\n",
       " 'ElevationWithFlooring': None}"
      ]
     },
     "execution_count": 17,
     "metadata": {},
     "output_type": "execute_result"
    }
   ],
   "source": [
    "r.get_info()"
   ]
  },
  {
   "cell_type": "code",
   "execution_count": 18,
   "metadata": {},
   "outputs": [
    {
     "data": {
      "image/svg+xml": [
       "<?xml version=\"1.0\" encoding=\"UTF-8\" standalone=\"no\"?>\n",
       "<!DOCTYPE svg PUBLIC \"-//W3C//DTD SVG 1.1//EN\"\n",
       " \"http://www.w3.org/Graphics/SVG/1.1/DTD/svg11.dtd\">\n",
       "<!-- Generated by graphviz version 2.42.3 (20191010.1750)\n",
       " -->\n",
       "<!-- Title: %3 Pages: 1 -->\n",
       "<svg width=\"1694pt\" height=\"830pt\"\n",
       " viewBox=\"0.00 0.00 1694.00 829.50\" xmlns=\"http://www.w3.org/2000/svg\" xmlns:xlink=\"http://www.w3.org/1999/xlink\">\n",
       "<g id=\"graph0\" class=\"graph\" transform=\"scale(1 1) rotate(0) translate(4 825.5)\">\n",
       "<title>%3</title>\n",
       "<polygon fill=\"white\" stroke=\"transparent\" points=\"-4,4 -4,-825.5 1690,-825.5 1690,4 -4,4\"/>\n",
       "<!-- 30 -->\n",
       "<g id=\"node1\" class=\"node\">\n",
       "<title>30</title>\n",
       "<polygon fill=\"none\" stroke=\"black\" points=\"881,-515.5 881,-622.5 985,-622.5 985,-515.5 881,-515.5\"/>\n",
       "<text text-anchor=\"middle\" x=\"933\" y=\"-612.1\" font-family=\"Arial\" font-size=\"8.00\">#30 </text>\n",
       "<text text-anchor=\"middle\" x=\"933\" y=\"-603.1\" font-family=\"Arial\" font-size=\"8.00\">(IfcPerson) </text>\n",
       "<text text-anchor=\"start\" x=\"889\" y=\"-585.1\" font-family=\"Arial\" font-size=\"8.00\">Id : None </text>\n",
       "<text text-anchor=\"start\" x=\"889\" y=\"-576.1\" font-family=\"Arial\" font-size=\"8.00\">FamilyName : None </text>\n",
       "<text text-anchor=\"start\" x=\"889\" y=\"-567.1\" font-family=\"Arial\" font-size=\"8.00\">GivenName : cskender </text>\n",
       "<text text-anchor=\"start\" x=\"889\" y=\"-558.1\" font-family=\"Arial\" font-size=\"8.00\">MiddleNames : None </text>\n",
       "<text text-anchor=\"start\" x=\"889\" y=\"-549.1\" font-family=\"Arial\" font-size=\"8.00\">PrefixTitles : None </text>\n",
       "<text text-anchor=\"start\" x=\"889\" y=\"-540.1\" font-family=\"Arial\" font-size=\"8.00\">SuffixTitles : None </text>\n",
       "<text text-anchor=\"start\" x=\"889\" y=\"-531.1\" font-family=\"Arial\" font-size=\"8.00\">Roles : None </text>\n",
       "<text text-anchor=\"start\" x=\"889\" y=\"-522.1\" font-family=\"Arial\" font-size=\"8.00\">Addresses : None </text>\n",
       "</g>\n",
       "<!-- 32 -->\n",
       "<g id=\"node2\" class=\"node\">\n",
       "<title>32</title>\n",
       "<polygon fill=\"none\" stroke=\"black\" points=\"539.5,-592 539.5,-636 660.5,-636 660.5,-592 539.5,-592\"/>\n",
       "<text text-anchor=\"middle\" x=\"600\" y=\"-625.6\" font-family=\"Arial\" font-size=\"8.00\">#32 </text>\n",
       "<text text-anchor=\"middle\" x=\"600\" y=\"-616.6\" font-family=\"Arial\" font-size=\"8.00\">(IfcPersonAndOrganization) </text>\n",
       "<text text-anchor=\"start\" x=\"547.5\" y=\"-598.6\" font-family=\"Arial\" font-size=\"8.00\">Roles : None </text>\n",
       "</g>\n",
       "<!-- 32&#45;&gt;30 -->\n",
       "<g id=\"edge1\" class=\"edge\">\n",
       "<title>32&#45;&gt;30</title>\n",
       "<path fill=\"none\" stroke=\"black\" d=\"M660.56,-605.9C719.94,-597.83 810.72,-585.49 870.7,-577.33\"/>\n",
       "<polygon fill=\"black\" stroke=\"black\" points=\"871.35,-580.78 880.79,-575.96 870.41,-573.84 871.35,-580.78\"/>\n",
       "<text text-anchor=\"middle\" x=\"779.5\" y=\"-597.6\" font-family=\"Arial\" font-size=\"8.00\">ThePerson</text>\n",
       "</g>\n",
       "<!-- 31 -->\n",
       "<g id=\"node3\" class=\"node\">\n",
       "<title>31</title>\n",
       "<polygon fill=\"none\" stroke=\"black\" points=\"890.5,-642 890.5,-722 975.5,-722 975.5,-642 890.5,-642\"/>\n",
       "<text text-anchor=\"middle\" x=\"933\" y=\"-711.6\" font-family=\"Arial\" font-size=\"8.00\">#31 </text>\n",
       "<text text-anchor=\"middle\" x=\"933\" y=\"-702.6\" font-family=\"Arial\" font-size=\"8.00\">(IfcOrganization) </text>\n",
       "<text text-anchor=\"start\" x=\"898.5\" y=\"-684.6\" font-family=\"Arial\" font-size=\"8.00\">Id : None </text>\n",
       "<text text-anchor=\"start\" x=\"898.5\" y=\"-675.6\" font-family=\"Arial\" font-size=\"8.00\">Name : </text>\n",
       "<text text-anchor=\"start\" x=\"898.5\" y=\"-666.6\" font-family=\"Arial\" font-size=\"8.00\">Description : </text>\n",
       "<text text-anchor=\"start\" x=\"898.5\" y=\"-657.6\" font-family=\"Arial\" font-size=\"8.00\">Roles : None </text>\n",
       "<text text-anchor=\"start\" x=\"898.5\" y=\"-648.6\" font-family=\"Arial\" font-size=\"8.00\">Addresses : None </text>\n",
       "</g>\n",
       "<!-- 32&#45;&gt;31 -->\n",
       "<g id=\"edge2\" class=\"edge\">\n",
       "<title>32&#45;&gt;31</title>\n",
       "<path fill=\"none\" stroke=\"black\" d=\"M660.56,-626.24C723.2,-639.1 820.76,-659.15 880.28,-671.37\"/>\n",
       "<polygon fill=\"black\" stroke=\"black\" points=\"879.71,-674.83 890.21,-673.42 881.12,-667.97 879.71,-674.83\"/>\n",
       "<text text-anchor=\"middle\" x=\"779.5\" y=\"-662.6\" font-family=\"Arial\" font-size=\"8.00\">TheOrganization</text>\n",
       "</g>\n",
       "<!-- 33 -->\n",
       "<g id=\"node4\" class=\"node\">\n",
       "<title>33</title>\n",
       "<polygon fill=\"none\" stroke=\"black\" points=\"252,-569.5 252,-658.5 386,-658.5 386,-569.5 252,-569.5\"/>\n",
       "<text text-anchor=\"middle\" x=\"319\" y=\"-648.1\" font-family=\"Arial\" font-size=\"8.00\">#33 </text>\n",
       "<text text-anchor=\"middle\" x=\"319\" y=\"-639.1\" font-family=\"Arial\" font-size=\"8.00\">(IfcOwnerHistory) </text>\n",
       "<text text-anchor=\"start\" x=\"260\" y=\"-621.1\" font-family=\"Arial\" font-size=\"8.00\">State : None </text>\n",
       "<text text-anchor=\"start\" x=\"260\" y=\"-612.1\" font-family=\"Arial\" font-size=\"8.00\">ChangeAction : NOCHANGE </text>\n",
       "<text text-anchor=\"start\" x=\"260\" y=\"-603.1\" font-family=\"Arial\" font-size=\"8.00\">LastModifiedDate : None </text>\n",
       "<text text-anchor=\"start\" x=\"260\" y=\"-594.1\" font-family=\"Arial\" font-size=\"8.00\">LastModifyingUser : None </text>\n",
       "<text text-anchor=\"start\" x=\"260\" y=\"-585.1\" font-family=\"Arial\" font-size=\"8.00\">LastModifyingApplication : None </text>\n",
       "<text text-anchor=\"start\" x=\"260\" y=\"-576.1\" font-family=\"Arial\" font-size=\"8.00\">CreationDate : 0 </text>\n",
       "</g>\n",
       "<!-- 33&#45;&gt;32 -->\n",
       "<g id=\"edge3\" class=\"edge\">\n",
       "<title>33&#45;&gt;32</title>\n",
       "<path fill=\"none\" stroke=\"black\" d=\"M386.12,-614C429.08,-614 485.03,-614 528.79,-614\"/>\n",
       "<polygon fill=\"black\" stroke=\"black\" points=\"529.06,-617.5 539.06,-614 529.06,-610.5 529.06,-617.5\"/>\n",
       "<text text-anchor=\"middle\" x=\"438\" y=\"-616.6\" font-family=\"Arial\" font-size=\"8.00\">OwningUser</text>\n",
       "</g>\n",
       "<!-- 2 -->\n",
       "<g id=\"node6\" class=\"node\">\n",
       "<title>2</title>\n",
       "<polygon fill=\"none\" stroke=\"black\" points=\"490,-728 490,-790 710,-790 710,-728 490,-728\"/>\n",
       "<text text-anchor=\"middle\" x=\"600\" y=\"-779.6\" font-family=\"Arial\" font-size=\"8.00\">#2 </text>\n",
       "<text text-anchor=\"middle\" x=\"600\" y=\"-770.6\" font-family=\"Arial\" font-size=\"8.00\">(IfcApplication) </text>\n",
       "<text text-anchor=\"start\" x=\"498\" y=\"-752.6\" font-family=\"Arial\" font-size=\"8.00\">Version : 2011 </text>\n",
       "<text text-anchor=\"start\" x=\"498\" y=\"-743.6\" font-family=\"Arial\" font-size=\"8.00\">ApplicationFullName : Autodesk Revit Architecture 2011 </text>\n",
       "<text text-anchor=\"start\" x=\"498\" y=\"-734.6\" font-family=\"Arial\" font-size=\"8.00\">ApplicationIdentifier : Revit </text>\n",
       "</g>\n",
       "<!-- 33&#45;&gt;2 -->\n",
       "<g id=\"edge5\" class=\"edge\">\n",
       "<title>33&#45;&gt;2</title>\n",
       "<path fill=\"none\" stroke=\"black\" d=\"M386.12,-648.36C429.54,-670.93 486.21,-700.38 530.17,-723.23\"/>\n",
       "<polygon fill=\"black\" stroke=\"black\" points=\"528.57,-726.34 539.06,-727.85 531.8,-720.13 528.57,-726.34\"/>\n",
       "<text text-anchor=\"middle\" x=\"438\" y=\"-692.6\" font-family=\"Arial\" font-size=\"8.00\">OwningApplication</text>\n",
       "</g>\n",
       "<!-- 1 -->\n",
       "<g id=\"node5\" class=\"node\">\n",
       "<title>1</title>\n",
       "<polygon fill=\"none\" stroke=\"black\" points=\"849,-741 849,-821 1017,-821 1017,-741 849,-741\"/>\n",
       "<text text-anchor=\"middle\" x=\"933\" y=\"-810.6\" font-family=\"Arial\" font-size=\"8.00\">#1 </text>\n",
       "<text text-anchor=\"middle\" x=\"933\" y=\"-801.6\" font-family=\"Arial\" font-size=\"8.00\">(IfcOrganization) </text>\n",
       "<text text-anchor=\"start\" x=\"857\" y=\"-783.6\" font-family=\"Arial\" font-size=\"8.00\">Id : None </text>\n",
       "<text text-anchor=\"start\" x=\"857\" y=\"-774.6\" font-family=\"Arial\" font-size=\"8.00\">Name : Autodesk Revit Architecture 2011 </text>\n",
       "<text text-anchor=\"start\" x=\"857\" y=\"-765.6\" font-family=\"Arial\" font-size=\"8.00\">Description : None </text>\n",
       "<text text-anchor=\"start\" x=\"857\" y=\"-756.6\" font-family=\"Arial\" font-size=\"8.00\">Roles : None </text>\n",
       "<text text-anchor=\"start\" x=\"857\" y=\"-747.6\" font-family=\"Arial\" font-size=\"8.00\">Addresses : None </text>\n",
       "</g>\n",
       "<!-- 2&#45;&gt;1 -->\n",
       "<g id=\"edge4\" class=\"edge\">\n",
       "<title>2&#45;&gt;1</title>\n",
       "<path fill=\"none\" stroke=\"black\" d=\"M710.3,-766.26C751.88,-769.03 798.82,-772.15 838.77,-774.8\"/>\n",
       "<polygon fill=\"black\" stroke=\"black\" points=\"838.56,-778.3 848.77,-775.47 839.03,-771.31 838.56,-778.3\"/>\n",
       "<text text-anchor=\"middle\" x=\"779.5\" y=\"-775.6\" font-family=\"Arial\" font-size=\"8.00\">ApplicationDeveloper</text>\n",
       "</g>\n",
       "<!-- 1928 -->\n",
       "<g id=\"node7\" class=\"node\">\n",
       "<title>1928</title>\n",
       "<polygon fill=\"none\" stroke=\"black\" points=\"0,-426.5 0,-533.5 153,-533.5 153,-426.5 0,-426.5\"/>\n",
       "<text text-anchor=\"middle\" x=\"76.5\" y=\"-523.1\" font-family=\"Arial\" font-size=\"8.00\">#1928 </text>\n",
       "<text text-anchor=\"middle\" x=\"76.5\" y=\"-514.1\" font-family=\"Arial\" font-size=\"8.00\">(IfcSpace) </text>\n",
       "<text text-anchor=\"start\" x=\"8\" y=\"-496.1\" font-family=\"Arial\" font-size=\"8.00\">GlobalId : 0BTBFw6f90Nfh9rP1dl_3P </text>\n",
       "<text text-anchor=\"start\" x=\"8\" y=\"-487.1\" font-family=\"Arial\" font-size=\"8.00\">Name : B104 </text>\n",
       "<text text-anchor=\"start\" x=\"8\" y=\"-478.1\" font-family=\"Arial\" font-size=\"8.00\">Description : </text>\n",
       "<text text-anchor=\"start\" x=\"8\" y=\"-469.1\" font-family=\"Arial\" font-size=\"8.00\">ObjectType : None </text>\n",
       "<text text-anchor=\"start\" x=\"8\" y=\"-460.1\" font-family=\"Arial\" font-size=\"8.00\">LongName : Bathroom 1 </text>\n",
       "<text text-anchor=\"start\" x=\"8\" y=\"-451.1\" font-family=\"Arial\" font-size=\"8.00\">CompositionType : ELEMENT </text>\n",
       "<text text-anchor=\"start\" x=\"8\" y=\"-442.1\" font-family=\"Arial\" font-size=\"8.00\">InteriorOrExteriorSpace : INTERNAL </text>\n",
       "<text text-anchor=\"start\" x=\"8\" y=\"-433.1\" font-family=\"Arial\" font-size=\"8.00\">ElevationWithFlooring : None </text>\n",
       "</g>\n",
       "<!-- 1928&#45;&gt;33 -->\n",
       "<g id=\"edge6\" class=\"edge\">\n",
       "<title>1928&#45;&gt;33</title>\n",
       "<path fill=\"none\" stroke=\"black\" d=\"M153.27,-522.21C181.96,-538.2 214.6,-556.39 243.21,-572.33\"/>\n",
       "<polygon fill=\"black\" stroke=\"black\" points=\"241.51,-575.39 251.95,-577.2 244.92,-569.27 241.51,-575.39\"/>\n",
       "<text text-anchor=\"middle\" x=\"202.5\" y=\"-568.6\" font-family=\"Arial\" font-size=\"8.00\">OwnerHistory</text>\n",
       "</g>\n",
       "<!-- 1917 -->\n",
       "<g id=\"node15\" class=\"node\">\n",
       "<title>1917</title>\n",
       "<polygon fill=\"none\" stroke=\"black\" points=\"273,-462.5 273,-497.5 365,-497.5 365,-462.5 273,-462.5\"/>\n",
       "<text text-anchor=\"middle\" x=\"319\" y=\"-487.1\" font-family=\"Arial\" font-size=\"8.00\">#1917 </text>\n",
       "<text text-anchor=\"middle\" x=\"319\" y=\"-478.1\" font-family=\"Arial\" font-size=\"8.00\">(IfcLocalPlacement) </text>\n",
       "</g>\n",
       "<!-- 1928&#45;&gt;1917 -->\n",
       "<g id=\"edge18\" class=\"edge\">\n",
       "<title>1928&#45;&gt;1917</title>\n",
       "<path fill=\"none\" stroke=\"black\" d=\"M153.27,-480C188.67,-480 230.07,-480 262.51,-480\"/>\n",
       "<polygon fill=\"black\" stroke=\"black\" points=\"262.71,-483.5 272.71,-480 262.71,-476.5 262.71,-483.5\"/>\n",
       "<text text-anchor=\"middle\" x=\"202.5\" y=\"-482.6\" font-family=\"Arial\" font-size=\"8.00\">ObjectPlacement</text>\n",
       "</g>\n",
       "<!-- 1927 -->\n",
       "<g id=\"node29\" class=\"node\">\n",
       "<title>1927</title>\n",
       "<polygon fill=\"none\" stroke=\"black\" points=\"259.5,-377.5 259.5,-430.5 378.5,-430.5 378.5,-377.5 259.5,-377.5\"/>\n",
       "<text text-anchor=\"middle\" x=\"319\" y=\"-420.1\" font-family=\"Arial\" font-size=\"8.00\">#1927 </text>\n",
       "<text text-anchor=\"middle\" x=\"319\" y=\"-411.1\" font-family=\"Arial\" font-size=\"8.00\">(IfcProductDefinitionShape) </text>\n",
       "<text text-anchor=\"start\" x=\"267.5\" y=\"-393.1\" font-family=\"Arial\" font-size=\"8.00\">Name : None </text>\n",
       "<text text-anchor=\"start\" x=\"267.5\" y=\"-384.1\" font-family=\"Arial\" font-size=\"8.00\">Description : None </text>\n",
       "</g>\n",
       "<!-- 1928&#45;&gt;1927 -->\n",
       "<g id=\"edge33\" class=\"edge\">\n",
       "<title>1928&#45;&gt;1927</title>\n",
       "<path fill=\"none\" stroke=\"black\" d=\"M153.27,-456.06C184.2,-446.28 219.71,-435.06 249.82,-425.55\"/>\n",
       "<polygon fill=\"black\" stroke=\"black\" points=\"250.91,-428.87 259.39,-422.52 248.8,-422.2 250.91,-428.87\"/>\n",
       "<text text-anchor=\"middle\" x=\"202.5\" y=\"-451.6\" font-family=\"Arial\" font-size=\"8.00\">Representation</text>\n",
       "</g>\n",
       "<!-- 3 -->\n",
       "<g id=\"node8\" class=\"node\">\n",
       "<title>3</title>\n",
       "<polygon fill=\"none\" stroke=\"black\" points=\"1599,-368.5 1599,-403.5 1686,-403.5 1686,-368.5 1599,-368.5\"/>\n",
       "<text text-anchor=\"middle\" x=\"1642.5\" y=\"-393.1\" font-family=\"Arial\" font-size=\"8.00\">#3 </text>\n",
       "<text text-anchor=\"middle\" x=\"1642.5\" y=\"-384.1\" font-family=\"Arial\" font-size=\"8.00\">(IfcCartesianPoint) </text>\n",
       "</g>\n",
       "<!-- 38272 -->\n",
       "<g id=\"node9\" class=\"node\">\n",
       "<title>38272</title>\n",
       "<polygon fill=\"none\" stroke=\"black\" points=\"1414,-359.5 1414,-412.5 1517,-412.5 1517,-359.5 1414,-359.5\"/>\n",
       "<text text-anchor=\"middle\" x=\"1465.5\" y=\"-402.1\" font-family=\"Arial\" font-size=\"8.00\">#38272 </text>\n",
       "<text text-anchor=\"middle\" x=\"1465.5\" y=\"-393.1\" font-family=\"Arial\" font-size=\"8.00\">(IfcAxis2Placement3D) </text>\n",
       "<text text-anchor=\"start\" x=\"1422\" y=\"-375.1\" font-family=\"Arial\" font-size=\"8.00\">Axis : None </text>\n",
       "<text text-anchor=\"start\" x=\"1422\" y=\"-366.1\" font-family=\"Arial\" font-size=\"8.00\">RefDirection : None </text>\n",
       "</g>\n",
       "<!-- 38272&#45;&gt;3 -->\n",
       "<g id=\"edge7\" class=\"edge\">\n",
       "<title>38272&#45;&gt;3</title>\n",
       "<path fill=\"none\" stroke=\"black\" d=\"M1517.12,-386C1539.61,-386 1566.09,-386 1588.83,-386\"/>\n",
       "<polygon fill=\"black\" stroke=\"black\" points=\"1588.98,-389.5 1598.98,-386 1588.98,-382.5 1588.98,-389.5\"/>\n",
       "<text text-anchor=\"middle\" x=\"1558\" y=\"-388.6\" font-family=\"Arial\" font-size=\"8.00\">Location</text>\n",
       "</g>\n",
       "<!-- 38273 -->\n",
       "<g id=\"node10\" class=\"node\">\n",
       "<title>38273</title>\n",
       "<polygon fill=\"none\" stroke=\"black\" points=\"1163.5,-366 1163.5,-410 1267.5,-410 1267.5,-366 1163.5,-366\"/>\n",
       "<text text-anchor=\"middle\" x=\"1215.5\" y=\"-399.6\" font-family=\"Arial\" font-size=\"8.00\">#38273 </text>\n",
       "<text text-anchor=\"middle\" x=\"1215.5\" y=\"-390.6\" font-family=\"Arial\" font-size=\"8.00\">(IfcLocalPlacement) </text>\n",
       "<text text-anchor=\"start\" x=\"1171.5\" y=\"-372.6\" font-family=\"Arial\" font-size=\"8.00\">PlacementRelTo : None </text>\n",
       "</g>\n",
       "<!-- 38273&#45;&gt;38272 -->\n",
       "<g id=\"edge8\" class=\"edge\">\n",
       "<title>38273&#45;&gt;38272</title>\n",
       "<path fill=\"none\" stroke=\"black\" d=\"M1267.59,-387.59C1307.15,-387.27 1362.06,-386.83 1403.85,-386.49\"/>\n",
       "<polygon fill=\"black\" stroke=\"black\" points=\"1403.93,-389.99 1413.91,-386.41 1403.88,-382.99 1403.93,-389.99\"/>\n",
       "<text text-anchor=\"middle\" x=\"1344.5\" y=\"-390.6\" font-family=\"Arial\" font-size=\"8.00\">RelativePlacement</text>\n",
       "</g>\n",
       "<!-- 25 -->\n",
       "<g id=\"node11\" class=\"node\">\n",
       "<title>25</title>\n",
       "<polygon fill=\"none\" stroke=\"black\" points=\"887,-370.5 887,-405.5 979,-405.5 979,-370.5 887,-370.5\"/>\n",
       "<text text-anchor=\"middle\" x=\"933\" y=\"-395.1\" font-family=\"Arial\" font-size=\"8.00\">#25 </text>\n",
       "<text text-anchor=\"middle\" x=\"933\" y=\"-386.1\" font-family=\"Arial\" font-size=\"8.00\">(IfcLocalPlacement) </text>\n",
       "</g>\n",
       "<!-- 25&#45;&gt;38273 -->\n",
       "<g id=\"edge9\" class=\"edge\">\n",
       "<title>25&#45;&gt;38273</title>\n",
       "<path fill=\"none\" stroke=\"black\" d=\"M979.07,-388C1026.25,-388 1100.65,-388 1153.17,-388\"/>\n",
       "<polygon fill=\"black\" stroke=\"black\" points=\"1153.37,-391.5 1163.37,-388 1153.37,-384.5 1153.37,-391.5\"/>\n",
       "<text text-anchor=\"middle\" x=\"1086.5\" y=\"-390.6\" font-family=\"Arial\" font-size=\"8.00\">PlacementRelTo</text>\n",
       "</g>\n",
       "<!-- 24 -->\n",
       "<g id=\"node12\" class=\"node\">\n",
       "<title>24</title>\n",
       "<polygon fill=\"none\" stroke=\"black\" points=\"1293,-310.5 1293,-363.5 1396,-363.5 1396,-310.5 1293,-310.5\"/>\n",
       "<text text-anchor=\"middle\" x=\"1344.5\" y=\"-353.1\" font-family=\"Arial\" font-size=\"8.00\">#24 </text>\n",
       "<text text-anchor=\"middle\" x=\"1344.5\" y=\"-344.1\" font-family=\"Arial\" font-size=\"8.00\">(IfcAxis2Placement3D) </text>\n",
       "<text text-anchor=\"start\" x=\"1301\" y=\"-326.1\" font-family=\"Arial\" font-size=\"8.00\">Axis : None </text>\n",
       "<text text-anchor=\"start\" x=\"1301\" y=\"-317.1\" font-family=\"Arial\" font-size=\"8.00\">RefDirection : None </text>\n",
       "</g>\n",
       "<!-- 25&#45;&gt;24 -->\n",
       "<g id=\"edge11\" class=\"edge\">\n",
       "<title>25&#45;&gt;24</title>\n",
       "<path fill=\"none\" stroke=\"black\" d=\"M979.42,-380.88C1024.24,-373.99 1094.74,-363.52 1156,-356 1198.3,-350.81 1246.1,-345.98 1282.84,-342.49\"/>\n",
       "<polygon fill=\"black\" stroke=\"black\" points=\"1283.27,-345.97 1292.9,-341.54 1282.62,-339 1283.27,-345.97\"/>\n",
       "<text text-anchor=\"middle\" x=\"1086.5\" y=\"-375.6\" font-family=\"Arial\" font-size=\"8.00\">RelativePlacement</text>\n",
       "</g>\n",
       "<!-- 24&#45;&gt;3 -->\n",
       "<g id=\"edge10\" class=\"edge\">\n",
       "<title>24&#45;&gt;3</title>\n",
       "<path fill=\"none\" stroke=\"black\" d=\"M1396.22,-333.92C1430.6,-332.87 1476.89,-333.49 1517,-341 1543.09,-345.88 1570.98,-355.52 1593.74,-364.63\"/>\n",
       "<polygon fill=\"black\" stroke=\"black\" points=\"1592.58,-367.93 1603.16,-368.48 1595.23,-361.46 1592.58,-367.93\"/>\n",
       "<text text-anchor=\"middle\" x=\"1465.5\" y=\"-343.6\" font-family=\"Arial\" font-size=\"8.00\">Location</text>\n",
       "</g>\n",
       "<!-- 38 -->\n",
       "<g id=\"node13\" class=\"node\">\n",
       "<title>38</title>\n",
       "<polygon fill=\"none\" stroke=\"black\" points=\"554,-423.5 554,-458.5 646,-458.5 646,-423.5 554,-423.5\"/>\n",
       "<text text-anchor=\"middle\" x=\"600\" y=\"-448.1\" font-family=\"Arial\" font-size=\"8.00\">#38 </text>\n",
       "<text text-anchor=\"middle\" x=\"600\" y=\"-439.1\" font-family=\"Arial\" font-size=\"8.00\">(IfcLocalPlacement) </text>\n",
       "</g>\n",
       "<!-- 38&#45;&gt;25 -->\n",
       "<g id=\"edge12\" class=\"edge\">\n",
       "<title>38&#45;&gt;25</title>\n",
       "<path fill=\"none\" stroke=\"black\" d=\"M646.25,-428.42C670.36,-422.1 700.61,-414.8 728,-410 777.98,-401.25 835.49,-395.42 876.68,-391.98\"/>\n",
       "<polygon fill=\"black\" stroke=\"black\" points=\"877.11,-395.46 886.79,-391.15 876.54,-388.48 877.11,-395.46\"/>\n",
       "<text text-anchor=\"middle\" x=\"779.5\" y=\"-412.6\" font-family=\"Arial\" font-size=\"8.00\">PlacementRelTo</text>\n",
       "</g>\n",
       "<!-- 37 -->\n",
       "<g id=\"node14\" class=\"node\">\n",
       "<title>37</title>\n",
       "<polygon fill=\"none\" stroke=\"black\" points=\"1035,-414.5 1035,-467.5 1138,-467.5 1138,-414.5 1035,-414.5\"/>\n",
       "<text text-anchor=\"middle\" x=\"1086.5\" y=\"-457.1\" font-family=\"Arial\" font-size=\"8.00\">#37 </text>\n",
       "<text text-anchor=\"middle\" x=\"1086.5\" y=\"-448.1\" font-family=\"Arial\" font-size=\"8.00\">(IfcAxis2Placement3D) </text>\n",
       "<text text-anchor=\"start\" x=\"1043\" y=\"-430.1\" font-family=\"Arial\" font-size=\"8.00\">Axis : None </text>\n",
       "<text text-anchor=\"start\" x=\"1043\" y=\"-421.1\" font-family=\"Arial\" font-size=\"8.00\">RefDirection : None </text>\n",
       "</g>\n",
       "<!-- 38&#45;&gt;37 -->\n",
       "<g id=\"edge14\" class=\"edge\">\n",
       "<title>38&#45;&gt;37</title>\n",
       "<path fill=\"none\" stroke=\"black\" d=\"M646.15,-441C733.61,-441 926.2,-441 1024.77,-441\"/>\n",
       "<polygon fill=\"black\" stroke=\"black\" points=\"1024.88,-444.5 1034.88,-441 1024.88,-437.5 1024.88,-444.5\"/>\n",
       "<text text-anchor=\"middle\" x=\"779.5\" y=\"-443.6\" font-family=\"Arial\" font-size=\"8.00\">RelativePlacement</text>\n",
       "</g>\n",
       "<!-- 37&#45;&gt;3 -->\n",
       "<g id=\"edge13\" class=\"edge\">\n",
       "<title>37&#45;&gt;3</title>\n",
       "<path fill=\"none\" stroke=\"black\" d=\"M1138.15,-442.62C1218.89,-444.34 1381.48,-444.27 1517,-422 1541.07,-418.05 1567.07,-410.99 1589.06,-404.16\"/>\n",
       "<polygon fill=\"black\" stroke=\"black\" points=\"1590.39,-407.41 1598.86,-401.05 1588.27,-400.74 1590.39,-407.41\"/>\n",
       "<text text-anchor=\"middle\" x=\"1344.5\" y=\"-444.6\" font-family=\"Arial\" font-size=\"8.00\">Location</text>\n",
       "</g>\n",
       "<!-- 1917&#45;&gt;38 -->\n",
       "<g id=\"edge15\" class=\"edge\">\n",
       "<title>1917&#45;&gt;38</title>\n",
       "<path fill=\"none\" stroke=\"black\" d=\"M365.38,-465.23C377.79,-461.69 391.31,-458.28 404,-456 450.63,-447.63 504.36,-443.93 543.6,-442.29\"/>\n",
       "<polygon fill=\"black\" stroke=\"black\" points=\"543.89,-445.78 553.75,-441.9 543.62,-438.79 543.89,-445.78\"/>\n",
       "<text text-anchor=\"middle\" x=\"438\" y=\"-458.6\" font-family=\"Arial\" font-size=\"8.00\">PlacementRelTo</text>\n",
       "</g>\n",
       "<!-- 1916 -->\n",
       "<g id=\"node16\" class=\"node\">\n",
       "<title>1916</title>\n",
       "<polygon fill=\"none\" stroke=\"black\" points=\"728,-460.5 728,-513.5 831,-513.5 831,-460.5 728,-460.5\"/>\n",
       "<text text-anchor=\"middle\" x=\"779.5\" y=\"-503.1\" font-family=\"Arial\" font-size=\"8.00\">#1916 </text>\n",
       "<text text-anchor=\"middle\" x=\"779.5\" y=\"-494.1\" font-family=\"Arial\" font-size=\"8.00\">(IfcAxis2Placement3D) </text>\n",
       "<text text-anchor=\"start\" x=\"736\" y=\"-476.1\" font-family=\"Arial\" font-size=\"8.00\">Axis : None </text>\n",
       "<text text-anchor=\"start\" x=\"736\" y=\"-467.1\" font-family=\"Arial\" font-size=\"8.00\">RefDirection : None </text>\n",
       "</g>\n",
       "<!-- 1917&#45;&gt;1916 -->\n",
       "<g id=\"edge17\" class=\"edge\">\n",
       "<title>1917&#45;&gt;1916</title>\n",
       "<path fill=\"none\" stroke=\"black\" d=\"M365.22,-480.69C448.08,-481.96 624.29,-484.65 717.59,-486.07\"/>\n",
       "<polygon fill=\"black\" stroke=\"black\" points=\"717.68,-489.57 727.73,-486.22 717.78,-482.57 717.68,-489.57\"/>\n",
       "<text text-anchor=\"middle\" x=\"438\" y=\"-485.6\" font-family=\"Arial\" font-size=\"8.00\">RelativePlacement</text>\n",
       "</g>\n",
       "<!-- 1916&#45;&gt;3 -->\n",
       "<g id=\"edge16\" class=\"edge\">\n",
       "<title>1916&#45;&gt;3</title>\n",
       "<path fill=\"none\" stroke=\"black\" d=\"M831.23,-487C891.76,-487 996.01,-487 1085.5,-487 1085.5,-487 1085.5,-487 1466.5,-487 1527.3,-487 1585.98,-440.71 1617.55,-410.8\"/>\n",
       "<polygon fill=\"black\" stroke=\"black\" points=\"1620.24,-413.07 1624.98,-403.59 1615.36,-408.05 1620.24,-413.07\"/>\n",
       "<text text-anchor=\"middle\" x=\"1215.5\" y=\"-489.6\" font-family=\"Arial\" font-size=\"8.00\">Location</text>\n",
       "</g>\n",
       "<!-- 26 -->\n",
       "<g id=\"node17\" class=\"node\">\n",
       "<title>26</title>\n",
       "<polygon fill=\"none\" stroke=\"black\" points=\"1293,-251.5 1293,-304.5 1396,-304.5 1396,-251.5 1293,-251.5\"/>\n",
       "<text text-anchor=\"middle\" x=\"1344.5\" y=\"-294.1\" font-family=\"Arial\" font-size=\"8.00\">#26 </text>\n",
       "<text text-anchor=\"middle\" x=\"1344.5\" y=\"-285.1\" font-family=\"Arial\" font-size=\"8.00\">(IfcAxis2Placement3D) </text>\n",
       "<text text-anchor=\"start\" x=\"1301\" y=\"-267.1\" font-family=\"Arial\" font-size=\"8.00\">Axis : None </text>\n",
       "<text text-anchor=\"start\" x=\"1301\" y=\"-258.1\" font-family=\"Arial\" font-size=\"8.00\">RefDirection : None </text>\n",
       "</g>\n",
       "<!-- 26&#45;&gt;3 -->\n",
       "<g id=\"edge19\" class=\"edge\">\n",
       "<title>26&#45;&gt;3</title>\n",
       "<path fill=\"none\" stroke=\"black\" d=\"M1396.41,-285.55C1445.67,-294.28 1521.41,-311.51 1581,-342 1591.91,-347.58 1603,-355.03 1612.65,-362.2\"/>\n",
       "<polygon fill=\"black\" stroke=\"black\" points=\"1610.65,-365.08 1620.72,-368.39 1614.91,-359.53 1610.65,-365.08\"/>\n",
       "<text text-anchor=\"middle\" x=\"1465.5\" y=\"-317.6\" font-family=\"Arial\" font-size=\"8.00\">Location</text>\n",
       "</g>\n",
       "<!-- 27 -->\n",
       "<g id=\"node18\" class=\"node\">\n",
       "<title>27</title>\n",
       "<polygon fill=\"none\" stroke=\"black\" points=\"855,-238 855,-318 1011,-318 1011,-238 855,-238\"/>\n",
       "<text text-anchor=\"middle\" x=\"933\" y=\"-307.6\" font-family=\"Arial\" font-size=\"8.00\">#27 </text>\n",
       "<text text-anchor=\"middle\" x=\"933\" y=\"-298.6\" font-family=\"Arial\" font-size=\"8.00\">(IfcGeometricRepresentationContext) </text>\n",
       "<text text-anchor=\"start\" x=\"863\" y=\"-280.6\" font-family=\"Arial\" font-size=\"8.00\">ContextIdentifier : None </text>\n",
       "<text text-anchor=\"start\" x=\"863\" y=\"-271.6\" font-family=\"Arial\" font-size=\"8.00\">ContextType : Model </text>\n",
       "<text text-anchor=\"start\" x=\"863\" y=\"-262.6\" font-family=\"Arial\" font-size=\"8.00\">CoordinateSpaceDimension : 3 </text>\n",
       "<text text-anchor=\"start\" x=\"863\" y=\"-253.6\" font-family=\"Arial\" font-size=\"8.00\">Precision : 1e&#45;09 </text>\n",
       "<text text-anchor=\"start\" x=\"863\" y=\"-244.6\" font-family=\"Arial\" font-size=\"8.00\">TrueNorth : None </text>\n",
       "</g>\n",
       "<!-- 27&#45;&gt;26 -->\n",
       "<g id=\"edge20\" class=\"edge\">\n",
       "<title>27&#45;&gt;26</title>\n",
       "<path fill=\"none\" stroke=\"black\" d=\"M1011.02,-278C1089.75,-278 1210.41,-278 1282.68,-278\"/>\n",
       "<polygon fill=\"black\" stroke=\"black\" points=\"1282.98,-281.5 1292.98,-278 1282.98,-274.5 1282.98,-281.5\"/>\n",
       "<text text-anchor=\"middle\" x=\"1086.5\" y=\"-280.6\" font-family=\"Arial\" font-size=\"8.00\">WorldCoordinateSystem</text>\n",
       "</g>\n",
       "<!-- 1926 -->\n",
       "<g id=\"node19\" class=\"node\">\n",
       "<title>1926</title>\n",
       "<polygon fill=\"none\" stroke=\"black\" points=\"530.5,-251.5 530.5,-304.5 669.5,-304.5 669.5,-251.5 530.5,-251.5\"/>\n",
       "<text text-anchor=\"middle\" x=\"600\" y=\"-294.1\" font-family=\"Arial\" font-size=\"8.00\">#1926 </text>\n",
       "<text text-anchor=\"middle\" x=\"600\" y=\"-285.1\" font-family=\"Arial\" font-size=\"8.00\">(IfcShapeRepresentation) </text>\n",
       "<text text-anchor=\"start\" x=\"538.5\" y=\"-267.1\" font-family=\"Arial\" font-size=\"8.00\">RepresentationIdentifier : Body </text>\n",
       "<text text-anchor=\"start\" x=\"538.5\" y=\"-258.1\" font-family=\"Arial\" font-size=\"8.00\">RepresentationType : SweptSolid </text>\n",
       "</g>\n",
       "<!-- 1926&#45;&gt;27 -->\n",
       "<g id=\"edge21\" class=\"edge\">\n",
       "<title>1926&#45;&gt;27</title>\n",
       "<path fill=\"none\" stroke=\"black\" d=\"M669.58,-278C720.39,-278 790.01,-278 844.77,-278\"/>\n",
       "<polygon fill=\"black\" stroke=\"black\" points=\"844.82,-281.5 854.82,-278 844.82,-274.5 844.82,-281.5\"/>\n",
       "<text text-anchor=\"middle\" x=\"779.5\" y=\"-280.6\" font-family=\"Arial\" font-size=\"8.00\">ContextOfItems</text>\n",
       "</g>\n",
       "<!-- 1923 -->\n",
       "<g id=\"node24\" class=\"node\">\n",
       "<title>1923</title>\n",
       "<polygon fill=\"none\" stroke=\"black\" points=\"872,-104 872,-148 994,-148 994,-104 872,-104\"/>\n",
       "<text text-anchor=\"middle\" x=\"933\" y=\"-137.6\" font-family=\"Arial\" font-size=\"8.00\">#1923 </text>\n",
       "<text text-anchor=\"middle\" x=\"933\" y=\"-128.6\" font-family=\"Arial\" font-size=\"8.00\">(IfcExtrudedAreaSolid) </text>\n",
       "<text text-anchor=\"start\" x=\"880\" y=\"-110.6\" font-family=\"Arial\" font-size=\"8.00\">Depth : 2.587000000000001 </text>\n",
       "</g>\n",
       "<!-- 1926&#45;&gt;1923 -->\n",
       "<g id=\"edge31\" class=\"edge\">\n",
       "<title>1926&#45;&gt;1923</title>\n",
       "<path fill=\"none\" stroke=\"black\" d=\"M659.03,-251.35C719.66,-223.51 814.19,-180.1 874.59,-152.36\"/>\n",
       "<polygon fill=\"black\" stroke=\"black\" points=\"876.35,-155.41 883.98,-148.05 873.43,-149.04 876.35,-155.41\"/>\n",
       "<text text-anchor=\"middle\" x=\"779.5\" y=\"-218.6\" font-family=\"Arial\" font-size=\"8.00\">Items</text>\n",
       "</g>\n",
       "<!-- 1918 -->\n",
       "<g id=\"node20\" class=\"node\">\n",
       "<title>1918</title>\n",
       "<polygon fill=\"none\" stroke=\"black\" points=\"1599,-0.5 1599,-35.5 1686,-35.5 1686,-0.5 1599,-0.5\"/>\n",
       "<text text-anchor=\"middle\" x=\"1642.5\" y=\"-25.1\" font-family=\"Arial\" font-size=\"8.00\">#1918 </text>\n",
       "<text text-anchor=\"middle\" x=\"1642.5\" y=\"-16.1\" font-family=\"Arial\" font-size=\"8.00\">(IfcCartesianPoint) </text>\n",
       "</g>\n",
       "<!-- 1919 -->\n",
       "<g id=\"node21\" class=\"node\">\n",
       "<title>1919</title>\n",
       "<polygon fill=\"none\" stroke=\"black\" points=\"1414,-27.5 1414,-62.5 1517,-62.5 1517,-27.5 1414,-27.5\"/>\n",
       "<text text-anchor=\"middle\" x=\"1465.5\" y=\"-52.1\" font-family=\"Arial\" font-size=\"8.00\">#1919 </text>\n",
       "<text text-anchor=\"middle\" x=\"1465.5\" y=\"-43.1\" font-family=\"Arial\" font-size=\"8.00\">(IfcAxis2Placement2D) </text>\n",
       "</g>\n",
       "<!-- 1919&#45;&gt;1918 -->\n",
       "<g id=\"edge22\" class=\"edge\">\n",
       "<title>1919&#45;&gt;1918</title>\n",
       "<path fill=\"none\" stroke=\"black\" d=\"M1517.12,-37.19C1539.61,-33.72 1566.09,-29.63 1588.83,-26.13\"/>\n",
       "<polygon fill=\"black\" stroke=\"black\" points=\"1589.63,-29.54 1598.98,-24.56 1588.56,-22.63 1589.63,-29.54\"/>\n",
       "<text text-anchor=\"middle\" x=\"1558\" y=\"-36.6\" font-family=\"Arial\" font-size=\"8.00\">Location</text>\n",
       "</g>\n",
       "<!-- 11 -->\n",
       "<g id=\"node22\" class=\"node\">\n",
       "<title>11</title>\n",
       "<polygon fill=\"none\" stroke=\"black\" points=\"1606.5,-54.5 1606.5,-89.5 1678.5,-89.5 1678.5,-54.5 1606.5,-54.5\"/>\n",
       "<text text-anchor=\"middle\" x=\"1642.5\" y=\"-79.1\" font-family=\"Arial\" font-size=\"8.00\">#11 </text>\n",
       "<text text-anchor=\"middle\" x=\"1642.5\" y=\"-70.1\" font-family=\"Arial\" font-size=\"8.00\">(IfcDirection) </text>\n",
       "</g>\n",
       "<!-- 1919&#45;&gt;11 -->\n",
       "<g id=\"edge23\" class=\"edge\">\n",
       "<title>1919&#45;&gt;11</title>\n",
       "<path fill=\"none\" stroke=\"black\" d=\"M1517.12,-52.81C1542.11,-56.67 1572.03,-61.28 1596.25,-65.02\"/>\n",
       "<polygon fill=\"black\" stroke=\"black\" points=\"1595.84,-68.5 1606.26,-66.56 1596.91,-61.58 1595.84,-68.5\"/>\n",
       "<text text-anchor=\"middle\" x=\"1558\" y=\"-65.6\" font-family=\"Arial\" font-size=\"8.00\">RefDirection</text>\n",
       "</g>\n",
       "<!-- 1920 -->\n",
       "<g id=\"node23\" class=\"node\">\n",
       "<title>1920</title>\n",
       "<polygon fill=\"none\" stroke=\"black\" points=\"1156,-9.5 1156,-80.5 1275,-80.5 1275,-9.5 1156,-9.5\"/>\n",
       "<text text-anchor=\"middle\" x=\"1215.5\" y=\"-70.1\" font-family=\"Arial\" font-size=\"8.00\">#1920 </text>\n",
       "<text text-anchor=\"middle\" x=\"1215.5\" y=\"-61.1\" font-family=\"Arial\" font-size=\"8.00\">(IfcRectangleProfileDef) </text>\n",
       "<text text-anchor=\"start\" x=\"1164\" y=\"-43.1\" font-family=\"Arial\" font-size=\"8.00\">ProfileType : AREA </text>\n",
       "<text text-anchor=\"start\" x=\"1164\" y=\"-34.1\" font-family=\"Arial\" font-size=\"8.00\">ProfileName : None </text>\n",
       "<text text-anchor=\"start\" x=\"1164\" y=\"-25.1\" font-family=\"Arial\" font-size=\"8.00\">XDim : 2.171000000000043 </text>\n",
       "<text text-anchor=\"start\" x=\"1164\" y=\"-16.1\" font-family=\"Arial\" font-size=\"8.00\">YDim : 1.456000000000002 </text>\n",
       "</g>\n",
       "<!-- 1920&#45;&gt;1919 -->\n",
       "<g id=\"edge24\" class=\"edge\">\n",
       "<title>1920&#45;&gt;1919</title>\n",
       "<path fill=\"none\" stroke=\"black\" d=\"M1275.27,-45C1313.93,-45 1364.41,-45 1403.51,-45\"/>\n",
       "<polygon fill=\"black\" stroke=\"black\" points=\"1403.7,-48.5 1413.7,-45 1403.7,-41.5 1403.7,-48.5\"/>\n",
       "<text text-anchor=\"middle\" x=\"1344.5\" y=\"-47.6\" font-family=\"Arial\" font-size=\"8.00\">Position</text>\n",
       "</g>\n",
       "<!-- 1923&#45;&gt;1920 -->\n",
       "<g id=\"edge25\" class=\"edge\">\n",
       "<title>1923&#45;&gt;1920</title>\n",
       "<path fill=\"none\" stroke=\"black\" d=\"M994.23,-106.48C1007.62,-102.26 1021.77,-97.9 1035,-94 1071.52,-83.23 1112.46,-72 1146.01,-63\"/>\n",
       "<polygon fill=\"black\" stroke=\"black\" points=\"1146.96,-66.37 1155.72,-60.4 1145.16,-59.61 1146.96,-66.37\"/>\n",
       "<text text-anchor=\"middle\" x=\"1086.5\" y=\"-96.6\" font-family=\"Arial\" font-size=\"8.00\">SweptArea</text>\n",
       "</g>\n",
       "<!-- 1922 -->\n",
       "<g id=\"node26\" class=\"node\">\n",
       "<title>1922</title>\n",
       "<polygon fill=\"none\" stroke=\"black\" points=\"1164,-156.5 1164,-191.5 1267,-191.5 1267,-156.5 1164,-156.5\"/>\n",
       "<text text-anchor=\"middle\" x=\"1215.5\" y=\"-181.1\" font-family=\"Arial\" font-size=\"8.00\">#1922 </text>\n",
       "<text text-anchor=\"middle\" x=\"1215.5\" y=\"-172.1\" font-family=\"Arial\" font-size=\"8.00\">(IfcAxis2Placement3D) </text>\n",
       "</g>\n",
       "<!-- 1923&#45;&gt;1922 -->\n",
       "<g id=\"edge29\" class=\"edge\">\n",
       "<title>1923&#45;&gt;1922</title>\n",
       "<path fill=\"none\" stroke=\"black\" d=\"M994.17,-136.3C1041.27,-144.36 1106.47,-155.51 1153.72,-163.6\"/>\n",
       "<polygon fill=\"black\" stroke=\"black\" points=\"1153.37,-167.09 1163.81,-165.33 1154.55,-160.19 1153.37,-167.09\"/>\n",
       "<text text-anchor=\"middle\" x=\"1086.5\" y=\"-162.6\" font-family=\"Arial\" font-size=\"8.00\">Position</text>\n",
       "</g>\n",
       "<!-- 9 -->\n",
       "<g id=\"node27\" class=\"node\">\n",
       "<title>9</title>\n",
       "<polygon fill=\"none\" stroke=\"black\" points=\"1429.5,-102.5 1429.5,-137.5 1501.5,-137.5 1501.5,-102.5 1429.5,-102.5\"/>\n",
       "<text text-anchor=\"middle\" x=\"1465.5\" y=\"-127.1\" font-family=\"Arial\" font-size=\"8.00\">#9 </text>\n",
       "<text text-anchor=\"middle\" x=\"1465.5\" y=\"-118.1\" font-family=\"Arial\" font-size=\"8.00\">(IfcDirection) </text>\n",
       "</g>\n",
       "<!-- 1923&#45;&gt;9 -->\n",
       "<g id=\"edge30\" class=\"edge\">\n",
       "<title>1923&#45;&gt;9</title>\n",
       "<path fill=\"none\" stroke=\"black\" d=\"M994.08,-125.32C1101.41,-124.11 1323.79,-121.59 1419.3,-120.51\"/>\n",
       "<polygon fill=\"black\" stroke=\"black\" points=\"1419.54,-124.01 1429.5,-120.4 1419.46,-117.01 1419.54,-124.01\"/>\n",
       "<text text-anchor=\"middle\" x=\"1215.5\" y=\"-126.6\" font-family=\"Arial\" font-size=\"8.00\">ExtrudedDirection</text>\n",
       "</g>\n",
       "<!-- 1921 -->\n",
       "<g id=\"node25\" class=\"node\">\n",
       "<title>1921</title>\n",
       "<polygon fill=\"none\" stroke=\"black\" points=\"1422,-161.5 1422,-196.5 1509,-196.5 1509,-161.5 1422,-161.5\"/>\n",
       "<text text-anchor=\"middle\" x=\"1465.5\" y=\"-186.1\" font-family=\"Arial\" font-size=\"8.00\">#1921 </text>\n",
       "<text text-anchor=\"middle\" x=\"1465.5\" y=\"-177.1\" font-family=\"Arial\" font-size=\"8.00\">(IfcCartesianPoint) </text>\n",
       "</g>\n",
       "<!-- 1922&#45;&gt;1921 -->\n",
       "<g id=\"edge26\" class=\"edge\">\n",
       "<title>1922&#45;&gt;1921</title>\n",
       "<path fill=\"none\" stroke=\"black\" d=\"M1267.28,-175.02C1309.31,-175.87 1368.81,-177.07 1411.45,-177.93\"/>\n",
       "<polygon fill=\"black\" stroke=\"black\" points=\"1411.56,-181.43 1421.63,-178.14 1411.7,-174.43 1411.56,-181.43\"/>\n",
       "<text text-anchor=\"middle\" x=\"1344.5\" y=\"-180.6\" font-family=\"Arial\" font-size=\"8.00\">Location</text>\n",
       "</g>\n",
       "<!-- 1922&#45;&gt;9 -->\n",
       "<g id=\"edge27\" class=\"edge\">\n",
       "<title>1922&#45;&gt;9</title>\n",
       "<path fill=\"none\" stroke=\"black\" d=\"M1267.28,-162.94C1312.02,-153.2 1376.57,-139.15 1419.49,-129.8\"/>\n",
       "<polygon fill=\"black\" stroke=\"black\" points=\"1420.34,-133.2 1429.37,-127.65 1418.85,-126.36 1420.34,-133.2\"/>\n",
       "<text text-anchor=\"middle\" x=\"1344.5\" y=\"-159.6\" font-family=\"Arial\" font-size=\"8.00\">Axis</text>\n",
       "</g>\n",
       "<!-- 7 -->\n",
       "<g id=\"node28\" class=\"node\">\n",
       "<title>7</title>\n",
       "<polygon fill=\"none\" stroke=\"black\" points=\"1429.5,-215.5 1429.5,-250.5 1501.5,-250.5 1501.5,-215.5 1429.5,-215.5\"/>\n",
       "<text text-anchor=\"middle\" x=\"1465.5\" y=\"-240.1\" font-family=\"Arial\" font-size=\"8.00\">#7 </text>\n",
       "<text text-anchor=\"middle\" x=\"1465.5\" y=\"-231.1\" font-family=\"Arial\" font-size=\"8.00\">(IfcDirection) </text>\n",
       "</g>\n",
       "<!-- 1922&#45;&gt;7 -->\n",
       "<g id=\"edge28\" class=\"edge\">\n",
       "<title>1922&#45;&gt;7</title>\n",
       "<path fill=\"none\" stroke=\"black\" d=\"M1267.28,-186.08C1312.02,-196.72 1376.57,-212.08 1419.49,-222.29\"/>\n",
       "<polygon fill=\"black\" stroke=\"black\" points=\"1418.83,-225.73 1429.37,-224.64 1420.45,-218.92 1418.83,-225.73\"/>\n",
       "<text text-anchor=\"middle\" x=\"1344.5\" y=\"-218.6\" font-family=\"Arial\" font-size=\"8.00\">RefDirection</text>\n",
       "</g>\n",
       "<!-- 1927&#45;&gt;1926 -->\n",
       "<g id=\"edge32\" class=\"edge\">\n",
       "<title>1927&#45;&gt;1926</title>\n",
       "<path fill=\"none\" stroke=\"black\" d=\"M378.83,-377.43C423.25,-357.37 484.3,-329.8 530.85,-308.78\"/>\n",
       "<polygon fill=\"black\" stroke=\"black\" points=\"532.58,-311.84 540.25,-304.53 529.7,-305.46 532.58,-311.84\"/>\n",
       "<text text-anchor=\"middle\" x=\"438\" y=\"-366.6\" font-family=\"Arial\" font-size=\"8.00\">Representations</text>\n",
       "</g>\n",
       "</g>\n",
       "</svg>\n"
      ],
      "text/plain": [
       "<graphviz.dot.Digraph at 0x7f98d32e2710>"
      ]
     },
     "execution_count": 18,
     "metadata": {},
     "output_type": "execute_result"
    }
   ],
   "source": [
    "from utils import IfcGraphViz\n",
    "#graph = IfcGraphViz.IfcGraphViz().plot_graph(m, r)\n",
    "graph = IfcGraphViz.IfcGraphViz().plot_graph(m, r)\n",
    "graph"
   ]
  },
  {
   "cell_type": "code",
   "execution_count": 21,
   "metadata": {},
   "outputs": [
    {
     "data": {
      "text/plain": [
       "{'id': 33,\n",
       " 'type': 'IfcOwnerHistory',\n",
       " 'OwningUser': #32=IfcPersonAndOrganization(#30,#31,$),\n",
       " 'OwningApplication': #2=IfcApplication(#1,'2011','Autodesk Revit Architecture 2011','Revit'),\n",
       " 'State': None,\n",
       " 'ChangeAction': 'NOCHANGE',\n",
       " 'LastModifiedDate': None,\n",
       " 'LastModifyingUser': None,\n",
       " 'LastModifyingApplication': None,\n",
       " 'CreationDate': 0}"
      ]
     },
     "execution_count": 21,
     "metadata": {},
     "output_type": "execute_result"
    }
   ],
   "source": [
    "history = m.by_id(33)\n",
    "history.get_info()"
   ]
  },
  {
   "cell_type": "code",
   "execution_count": 22,
   "metadata": {},
   "outputs": [
    {
     "data": {
      "text/html": [
       "\n",
       "        <iframe\n",
       "            width=\"100%\"\n",
       "            height=\"500px\"\n",
       "            src=\"https://standards.buildingsmart.org/IFC/RELEASE/IFC4/ADD2_TC1/HTML/schema/ifcactorresource/lexical/ifcpersonandorganization.htm\"\n",
       "            frameborder=\"0\"\n",
       "            allowfullscreen\n",
       "        ></iframe>\n",
       "        "
      ],
      "text/plain": [
       "<IPython.lib.display.IFrame at 0x7f98afc4f350>"
      ]
     },
     "execution_count": 22,
     "metadata": {},
     "output_type": "execute_result"
    }
   ],
   "source": [
    "IfcHelp.getHelp4(\"IfcPersonAndOrganization\")"
   ]
  },
  {
   "cell_type": "markdown",
   "metadata": {},
   "source": [
    "# Plot inverse relations"
   ]
  },
  {
   "cell_type": "code",
   "execution_count": 23,
   "metadata": {},
   "outputs": [
    {
     "name": "stdout",
     "output_type": "stream",
     "text": [
      "#4131=IfcWallStandardCase('2O2Fr$t4X7Zf8NOew3FNld',#33,'Basic Wall:Interior - Partition (92mm Stud):138584',$,'Basic Wall:Interior - Partition (92mm Stud):128360',#4118,#4130,'138584')\n"
     ]
    },
    {
     "data": {
      "image/svg+xml": [
       "<?xml version=\"1.0\" encoding=\"UTF-8\" standalone=\"no\"?>\n",
       "<!DOCTYPE svg PUBLIC \"-//W3C//DTD SVG 1.1//EN\"\n",
       " \"http://www.w3.org/Graphics/SVG/1.1/DTD/svg11.dtd\">\n",
       "<!-- Generated by graphviz version 2.42.3 (20191010.1750)\n",
       " -->\n",
       "<!-- Title: %3 Pages: 1 -->\n",
       "<svg width=\"250pt\" height=\"422pt\"\n",
       " viewBox=\"0.00 0.00 250.00 422.00\" xmlns=\"http://www.w3.org/2000/svg\" xmlns:xlink=\"http://www.w3.org/1999/xlink\">\n",
       "<g id=\"graph0\" class=\"graph\" transform=\"scale(1 1) rotate(0) translate(4 418)\">\n",
       "<title>%3</title>\n",
       "<polygon fill=\"white\" stroke=\"transparent\" points=\"-4,4 -4,-418 246,-418 246,4 -4,4\"/>\n",
       "<!-- 4131 -->\n",
       "<g id=\"node1\" class=\"node\">\n",
       "<title>4131</title>\n",
       "<polygon fill=\"none\" stroke=\"black\" points=\"170,-198.5 170,-215.5 242,-215.5 242,-198.5 170,-198.5\"/>\n",
       "<text text-anchor=\"middle\" x=\"206\" y=\"-205.1\" font-family=\"Arial\" font-size=\"8.00\">#4131</text>\n",
       "</g>\n",
       "<!-- 4135 -->\n",
       "<g id=\"node2\" class=\"node\">\n",
       "<title>4135</title>\n",
       "<polygon fill=\"none\" stroke=\"black\" points=\"0,-396.5 0,-413.5 72,-413.5 72,-396.5 0,-396.5\"/>\n",
       "<text text-anchor=\"middle\" x=\"36\" y=\"-403.1\" font-family=\"Arial\" font-size=\"8.00\">4135</text>\n",
       "</g>\n",
       "<!-- 4135&#45;&gt;4131 -->\n",
       "<g id=\"edge1\" class=\"edge\">\n",
       "<title>4135&#45;&gt;4131</title>\n",
       "<path fill=\"none\" stroke=\"black\" d=\"M72.18,-405.19C97.44,-403.44 130.65,-397.04 152,-377 195.34,-336.32 203.48,-260.86 204.84,-225.8\"/>\n",
       "<polygon fill=\"black\" stroke=\"black\" points=\"208.34,-225.65 205.08,-215.57 201.35,-225.48 208.34,-225.65\"/>\n",
       "<text text-anchor=\"middle\" x=\"121\" y=\"-404.6\" font-family=\"Arial\" font-size=\"8.00\">RelatedObjects</text>\n",
       "</g>\n",
       "<!-- 4186 -->\n",
       "<g id=\"node3\" class=\"node\">\n",
       "<title>4186</title>\n",
       "<polygon fill=\"none\" stroke=\"black\" points=\"0,-360.5 0,-377.5 72,-377.5 72,-360.5 0,-360.5\"/>\n",
       "<text text-anchor=\"middle\" x=\"36\" y=\"-367.1\" font-family=\"Arial\" font-size=\"8.00\">4186</text>\n",
       "</g>\n",
       "<!-- 4186&#45;&gt;4131 -->\n",
       "<g id=\"edge2\" class=\"edge\">\n",
       "<title>4186&#45;&gt;4131</title>\n",
       "<path fill=\"none\" stroke=\"black\" d=\"M72.03,-367.61C97.04,-364.88 130.02,-357.47 152,-338 185.58,-308.26 198.23,-254.19 202.71,-225.71\"/>\n",
       "<polygon fill=\"black\" stroke=\"black\" points=\"206.22,-225.91 204.14,-215.52 199.29,-224.94 206.22,-225.91\"/>\n",
       "<text text-anchor=\"middle\" x=\"121\" y=\"-366.6\" font-family=\"Arial\" font-size=\"8.00\">RelatedObjects</text>\n",
       "</g>\n",
       "<!-- 4188 -->\n",
       "<g id=\"node4\" class=\"node\">\n",
       "<title>4188</title>\n",
       "<polygon fill=\"none\" stroke=\"black\" points=\"0,-324.5 0,-341.5 72,-341.5 72,-324.5 0,-324.5\"/>\n",
       "<text text-anchor=\"middle\" x=\"36\" y=\"-331.1\" font-family=\"Arial\" font-size=\"8.00\">4188</text>\n",
       "</g>\n",
       "<!-- 4188&#45;&gt;4131 -->\n",
       "<g id=\"edge3\" class=\"edge\">\n",
       "<title>4188&#45;&gt;4131</title>\n",
       "<path fill=\"none\" stroke=\"black\" d=\"M72.08,-329.54C96.64,-325.59 129.03,-317.11 152,-299 176.4,-279.75 191.65,-245.95 199.22,-225.11\"/>\n",
       "<polygon fill=\"black\" stroke=\"black\" points=\"202.57,-226.14 202.48,-215.55 195.94,-223.88 202.57,-226.14\"/>\n",
       "<text text-anchor=\"middle\" x=\"121\" y=\"-327.6\" font-family=\"Arial\" font-size=\"8.00\">RelatedObjects</text>\n",
       "</g>\n",
       "<!-- 4190 -->\n",
       "<g id=\"node5\" class=\"node\">\n",
       "<title>4190</title>\n",
       "<polygon fill=\"none\" stroke=\"black\" points=\"0,-288.5 0,-305.5 72,-305.5 72,-288.5 0,-288.5\"/>\n",
       "<text text-anchor=\"middle\" x=\"36\" y=\"-295.1\" font-family=\"Arial\" font-size=\"8.00\">4190</text>\n",
       "</g>\n",
       "<!-- 4190&#45;&gt;4131 -->\n",
       "<g id=\"edge4\" class=\"edge\">\n",
       "<title>4190&#45;&gt;4131</title>\n",
       "<path fill=\"none\" stroke=\"black\" d=\"M72.12,-291.14C95.94,-286.04 127.44,-277.05 152,-262 168.2,-252.08 182.86,-236.04 192.64,-223.84\"/>\n",
       "<polygon fill=\"black\" stroke=\"black\" points=\"195.52,-225.83 198.84,-215.77 189.97,-221.56 195.52,-225.83\"/>\n",
       "<text text-anchor=\"middle\" x=\"121\" y=\"-288.6\" font-family=\"Arial\" font-size=\"8.00\">RelatedObjects</text>\n",
       "</g>\n",
       "<!-- 4192 -->\n",
       "<g id=\"node6\" class=\"node\">\n",
       "<title>4192</title>\n",
       "<polygon fill=\"none\" stroke=\"black\" points=\"0,-252.5 0,-269.5 72,-269.5 72,-252.5 0,-252.5\"/>\n",
       "<text text-anchor=\"middle\" x=\"36\" y=\"-259.1\" font-family=\"Arial\" font-size=\"8.00\">4192</text>\n",
       "</g>\n",
       "<!-- 4192&#45;&gt;4131 -->\n",
       "<g id=\"edge5\" class=\"edge\">\n",
       "<title>4192&#45;&gt;4131</title>\n",
       "<path fill=\"none\" stroke=\"black\" d=\"M72.25,-253.97C95.28,-248.92 125.83,-241.37 152,-232 161.19,-228.71 170.93,-224.38 179.52,-220.24\"/>\n",
       "<polygon fill=\"black\" stroke=\"black\" points=\"181.23,-223.3 188.64,-215.73 178.13,-217.03 181.23,-223.3\"/>\n",
       "<text text-anchor=\"middle\" x=\"121\" y=\"-251.6\" font-family=\"Arial\" font-size=\"8.00\">RelatedObjects</text>\n",
       "</g>\n",
       "<!-- 4194 -->\n",
       "<g id=\"node7\" class=\"node\">\n",
       "<title>4194</title>\n",
       "<polygon fill=\"none\" stroke=\"black\" points=\"0,-216.5 0,-233.5 72,-233.5 72,-216.5 0,-216.5\"/>\n",
       "<text text-anchor=\"middle\" x=\"36\" y=\"-223.1\" font-family=\"Arial\" font-size=\"8.00\">4194</text>\n",
       "</g>\n",
       "<!-- 4194&#45;&gt;4131 -->\n",
       "<g id=\"edge6\" class=\"edge\">\n",
       "<title>4194&#45;&gt;4131</title>\n",
       "<path fill=\"none\" stroke=\"black\" d=\"M72.22,-221.23C97.64,-218.5 132.19,-214.8 159.67,-211.86\"/>\n",
       "<polygon fill=\"black\" stroke=\"black\" points=\"160.26,-215.31 169.83,-210.77 159.51,-208.35 160.26,-215.31\"/>\n",
       "<text text-anchor=\"middle\" x=\"121\" y=\"-221.6\" font-family=\"Arial\" font-size=\"8.00\">RelatedObjects</text>\n",
       "</g>\n",
       "<!-- 38298 -->\n",
       "<g id=\"node8\" class=\"node\">\n",
       "<title>38298</title>\n",
       "<polygon fill=\"none\" stroke=\"black\" points=\"0,-180.5 0,-197.5 72,-197.5 72,-180.5 0,-180.5\"/>\n",
       "<text text-anchor=\"middle\" x=\"36\" y=\"-187.1\" font-family=\"Arial\" font-size=\"8.00\">38298</text>\n",
       "</g>\n",
       "<!-- 38298&#45;&gt;4131 -->\n",
       "<g id=\"edge7\" class=\"edge\">\n",
       "<title>38298&#45;&gt;4131</title>\n",
       "<path fill=\"none\" stroke=\"black\" d=\"M72.04,-191.47C94.85,-193.22 125.23,-195.82 152,-199 154.55,-199.3 157.16,-199.63 159.79,-199.98\"/>\n",
       "<polygon fill=\"black\" stroke=\"black\" points=\"159.59,-203.49 169.98,-201.39 160.55,-196.55 159.59,-203.49\"/>\n",
       "<text text-anchor=\"middle\" x=\"121\" y=\"-201.6\" font-family=\"Arial\" font-size=\"8.00\">RelatedElements</text>\n",
       "</g>\n",
       "<!-- 38360 -->\n",
       "<g id=\"node9\" class=\"node\">\n",
       "<title>38360</title>\n",
       "<polygon fill=\"none\" stroke=\"black\" points=\"0,-144.5 0,-161.5 72,-161.5 72,-144.5 0,-144.5\"/>\n",
       "<text text-anchor=\"middle\" x=\"36\" y=\"-151.1\" font-family=\"Arial\" font-size=\"8.00\">38360</text>\n",
       "</g>\n",
       "<!-- 38360&#45;&gt;4131 -->\n",
       "<g id=\"edge8\" class=\"edge\">\n",
       "<title>38360&#45;&gt;4131</title>\n",
       "<path fill=\"none\" stroke=\"black\" d=\"M72.11,-158.97C95.22,-163.44 125.9,-170.45 152,-180 162.08,-183.69 172.7,-188.83 181.78,-193.64\"/>\n",
       "<polygon fill=\"black\" stroke=\"black\" points=\"180.13,-196.73 190.58,-198.45 183.48,-190.58 180.13,-196.73\"/>\n",
       "<text text-anchor=\"middle\" x=\"121\" y=\"-182.6\" font-family=\"Arial\" font-size=\"8.00\">RelatedObjects</text>\n",
       "</g>\n",
       "<!-- 38538 -->\n",
       "<g id=\"node10\" class=\"node\">\n",
       "<title>38538</title>\n",
       "<polygon fill=\"none\" stroke=\"black\" points=\"0,-108.5 0,-125.5 72,-125.5 72,-108.5 0,-108.5\"/>\n",
       "<text text-anchor=\"middle\" x=\"36\" y=\"-115.1\" font-family=\"Arial\" font-size=\"8.00\">38538</text>\n",
       "</g>\n",
       "<!-- 38538&#45;&gt;4131 -->\n",
       "<g id=\"edge9\" class=\"edge\">\n",
       "<title>38538&#45;&gt;4131</title>\n",
       "<path fill=\"none\" stroke=\"black\" d=\"M72.24,-121.59C96.12,-125.9 127.63,-134.03 152,-149 169,-159.44 183.87,-176.88 193.5,-189.92\"/>\n",
       "<polygon fill=\"black\" stroke=\"black\" points=\"190.66,-191.96 199.29,-198.1 196.37,-187.91 190.66,-191.96\"/>\n",
       "<text text-anchor=\"middle\" x=\"121\" y=\"-151.6\" font-family=\"Arial\" font-size=\"8.00\">RelatedObjects</text>\n",
       "</g>\n",
       "<!-- 38539 -->\n",
       "<g id=\"node11\" class=\"node\">\n",
       "<title>38539</title>\n",
       "<polygon fill=\"none\" stroke=\"black\" points=\"0,-72.5 0,-89.5 72,-89.5 72,-72.5 0,-72.5\"/>\n",
       "<text text-anchor=\"middle\" x=\"36\" y=\"-79.1\" font-family=\"Arial\" font-size=\"8.00\">38539</text>\n",
       "</g>\n",
       "<!-- 38539&#45;&gt;4131 -->\n",
       "<g id=\"edge10\" class=\"edge\">\n",
       "<title>38539&#45;&gt;4131</title>\n",
       "<path fill=\"none\" stroke=\"black\" d=\"M72.12,-83.32C96.69,-86.54 129.1,-94.13 152,-112 177.35,-131.78 192.42,-167.26 199.68,-188.82\"/>\n",
       "<polygon fill=\"black\" stroke=\"black\" points=\"196.35,-189.92 202.69,-198.41 203.03,-187.82 196.35,-189.92\"/>\n",
       "<text text-anchor=\"middle\" x=\"121\" y=\"-114.6\" font-family=\"Arial\" font-size=\"8.00\">RelatedObjects</text>\n",
       "</g>\n",
       "<!-- 38540 -->\n",
       "<g id=\"node12\" class=\"node\">\n",
       "<title>38540</title>\n",
       "<polygon fill=\"none\" stroke=\"black\" points=\"0,-36.5 0,-53.5 72,-53.5 72,-36.5 0,-36.5\"/>\n",
       "<text text-anchor=\"middle\" x=\"36\" y=\"-43.1\" font-family=\"Arial\" font-size=\"8.00\">38540</text>\n",
       "</g>\n",
       "<!-- 38540&#45;&gt;4131 -->\n",
       "<g id=\"edge11\" class=\"edge\">\n",
       "<title>38540&#45;&gt;4131</title>\n",
       "<path fill=\"none\" stroke=\"black\" d=\"M72.01,-45.31C97.02,-47.32 130,-53.84 152,-73 186.64,-103.17 198.86,-159 202.99,-188.16\"/>\n",
       "<polygon fill=\"black\" stroke=\"black\" points=\"199.54,-188.75 204.25,-198.24 206.49,-187.88 199.54,-188.75\"/>\n",
       "<text text-anchor=\"middle\" x=\"121\" y=\"-75.6\" font-family=\"Arial\" font-size=\"8.00\">RelatedObjects</text>\n",
       "</g>\n",
       "<!-- 38541 -->\n",
       "<g id=\"node13\" class=\"node\">\n",
       "<title>38541</title>\n",
       "<polygon fill=\"none\" stroke=\"black\" points=\"0,-0.5 0,-17.5 72,-17.5 72,-0.5 0,-0.5\"/>\n",
       "<text text-anchor=\"middle\" x=\"36\" y=\"-7.1\" font-family=\"Arial\" font-size=\"8.00\">38541</text>\n",
       "</g>\n",
       "<!-- 38541&#45;&gt;4131 -->\n",
       "<g id=\"edge12\" class=\"edge\">\n",
       "<title>38541&#45;&gt;4131</title>\n",
       "<path fill=\"none\" stroke=\"black\" d=\"M72.14,-7.76C97.37,-8.77 130.57,-14.29 152,-34 196.45,-74.89 204.03,-151.94 205.05,-187.77\"/>\n",
       "<polygon fill=\"black\" stroke=\"black\" points=\"201.55,-188.28 205.18,-198.23 208.55,-188.19 201.55,-188.28\"/>\n",
       "<text text-anchor=\"middle\" x=\"121\" y=\"-36.6\" font-family=\"Arial\" font-size=\"8.00\">RelatedObjects</text>\n",
       "</g>\n",
       "</g>\n",
       "</svg>\n"
      ],
      "text/plain": [
       "<graphviz.dot.Digraph at 0x7f98d4c00310>"
      ]
     },
     "execution_count": 23,
     "metadata": {},
     "output_type": "execute_result"
    }
   ],
   "source": [
    "#graph = IfcGraphViz.IfcGraphViz().plot_graph(m, r)\n",
    "print(m.by_type(\"IfcWall\")[0])\n",
    "graph = IfcGraphViz.IfcGraphViz().plot_reverse_graph(m, m.by_type(\"IfcWall\")[0])\n",
    "graph"
   ]
  },
  {
   "cell_type": "code",
   "execution_count": 24,
   "metadata": {},
   "outputs": [],
   "source": [
    "import ifcopenshell.util.element"
   ]
  },
  {
   "cell_type": "code",
   "execution_count": 25,
   "metadata": {},
   "outputs": [
    {
     "data": {
      "text/plain": [
       "{'GSA Space Areas': {'GSA BIM Area': 3.997752000000072},\n",
       " 'Pset_SpaceCommon': {'Reference': '',\n",
       "  'CeilingCovering': 'CeilingCovering',\n",
       "  'WallCovering': 'WallCovering',\n",
       "  'FloorCovering': 'FloorCovering'},\n",
       " 'PSet_Revit_Identity Data': {'Number': 'B104',\n",
       "  'Name': 'Bathroom 1',\n",
       "  'OmniClass Table 13 Category': '13-41 11 14 11: Bathroom'},\n",
       " 'PSet_Revit_Constraints': {'Level': 'Level 1',\n",
       "  'Upper Limit': 'Level 1',\n",
       "  'Limit Offset': 2.6,\n",
       "  'Base Offset': 0.0},\n",
       " 'PSet_Revit_Dimensions': {'Area': 3.997752000000072,\n",
       "  'Perimeter': 8.204000000000091,\n",
       "  'Unbounded Height': 2.6,\n",
       "  'Volume': 8.177444912000173},\n",
       " 'PSet_Revit_Phasing': {'Phase': 'New Construction'},\n",
       " 'PSet_Revit_Other': {'CeilingCovering': 'CeilingCovering',\n",
       "  'FloorCovering': 'FloorCovering',\n",
       "  'WallCovering': 'WallCovering',\n",
       "  'LoadCapacity': 'LoadCapacity',\n",
       "  'Category Description': 'Bathroom',\n",
       "  'Category Code': '13-41 11 14 11',\n",
       "  'CirculationZoneName': 'Unit B CirculationZoneName',\n",
       "  'FireAlarmZoneName': 'Unit B FireAlarmZoneName',\n",
       "  'HistoricPreservationZoneName': 'Unit B HistoricPreservationZoneName',\n",
       "  'LightingZoneName': 'Unit B LightingZoneName',\n",
       "  'OccupancyZoneName': 'Unit B OccupancyZoneName',\n",
       "  'VentilationZoneName': 'Unit B VentilationZoneName',\n",
       "  'RoomTag': 'RoomTag'}}"
      ]
     },
     "execution_count": 25,
     "metadata": {},
     "output_type": "execute_result"
    }
   ],
   "source": [
    "ifcopenshell.util.element.get_psets(r)"
   ]
  },
  {
   "cell_type": "code",
   "execution_count": 26,
   "metadata": {},
   "outputs": [],
   "source": [
    "walls = m.by_type(\"IfcWall\")"
   ]
  },
  {
   "cell_type": "markdown",
   "metadata": {},
   "source": [
    "Count the number of walls in the entire building: `len` gets the size of collection datatypes in python [Documentation here](https://docs.python.org/3.8/library/functions.html#len)"
   ]
  },
  {
   "cell_type": "code",
   "execution_count": 27,
   "metadata": {},
   "outputs": [
    {
     "data": {
      "text/plain": [
       "57"
      ]
     },
     "execution_count": 27,
     "metadata": {},
     "output_type": "execute_result"
    }
   ],
   "source": [
    "len(walls)"
   ]
  },
  {
   "cell_type": "code",
   "execution_count": 29,
   "metadata": {},
   "outputs": [
    {
     "data": {
      "text/plain": [
       "#5106=IfcWallStandardCase('2O2Fr$t4X7Zf8NOew3FK1b',#33,'Basic Wall:Foundation - Concrete (435mm):141018',$,'Basic Wall:Foundation - Concrete (435mm):207146',#5093,#5105,'141018')"
      ]
     },
     "execution_count": 29,
     "metadata": {},
     "output_type": "execute_result"
    }
   ],
   "source": [
    "wall = walls[12]\n",
    "wall"
   ]
  },
  {
   "cell_type": "code",
   "execution_count": 31,
   "metadata": {},
   "outputs": [
    {
     "data": {
      "text/plain": [
       "{'Pset_WallCommon': {'Reference': 'Basic Wall:Foundation - Concrete (435mm)',\n",
       "  'LoadBearing': True,\n",
       "  'ExtendToStructure': False,\n",
       "  'IsExternal': True},\n",
       " 'PSet_Revit_Constraints': {'Location Line': 0,\n",
       "  'Base Constraint': 'T/FDN',\n",
       "  'Base Offset': 0.0,\n",
       "  'Base is Attached': False,\n",
       "  'Base Extension Distance': 0.0,\n",
       "  'Top Constraint': 'Up to level: Level 1',\n",
       "  'Unconnected Height': 1.123,\n",
       "  'Top Offset': -0.127,\n",
       "  'Top is Attached': False,\n",
       "  'Top Extension Distance': 0.0,\n",
       "  'Room Bounding': True,\n",
       "  'Related to Mass': False},\n",
       " 'PSet_Revit_Other': {'InstallationDate': 'InstallationDate',\n",
       "  'SerialNumber': 'SerialNumber',\n",
       "  'WarrantyStartDate': 'WarrantyStartDate',\n",
       "  'BarCode': 'BarCode',\n",
       "  'AssetIdentifier': 'AssetIdentifier',\n",
       "  'TagNumber': 'TagNumber'},\n",
       " 'PSet_Revit_Phasing': {'Phase Created': 'New Construction'},\n",
       " 'PSet_Revit_Structural': {'Rebar Cover - Exterior Face': 'Rebar Cover 1 <0.025>',\n",
       "  'Rebar Cover - Interior Face': 'Rebar Cover 1 <0.025>',\n",
       "  'Rebar Cover - Other Faces': 'Rebar Cover 1 <0.025>',\n",
       "  'Structural Usage': 1},\n",
       " 'PSet_Revit_Dimensions': {'Length': 2.200000000000026,\n",
       "  'Area': 1.982095000000031,\n",
       "  'Volume': 0.8622113250000139},\n",
       " 'PSet_Revit_Analytical Model': {'Enable Analytical Model': True},\n",
       " 'PSet_Revit_Type_Construction': {'Wrapping at Inserts': 0,\n",
       "  'Wrapping at Ends': 0,\n",
       "  'Width': 0.435,\n",
       "  'Function': 2},\n",
       " 'PSet_Revit_Type_Graphics': {'Coarse Scale Fill Pattern': 'Concrete',\n",
       "  'Coarse Scale Fill Color': 0},\n",
       " 'PSet_Revit_Type_Identity Data': {'Manufacturer': 'Manufacturer',\n",
       "  'Assembly Description': '',\n",
       "  'Assembly Code': ''},\n",
       " 'PSet_Revit_Type_Other': {'AccessibilityPerformance': 'AccessibilityPerformance',\n",
       "  'CodePerformance': 'CodePerformance',\n",
       "  'Color': 'Color',\n",
       "  'Constituents': 'Constituents',\n",
       "  'Features': 'Features',\n",
       "  'Finish': 'Finish',\n",
       "  'Grade': 'Grade',\n",
       "  'Material': 'Material',\n",
       "  'ModelReference': 'ModelReference',\n",
       "  'NominalHeight': 'NominalHeight',\n",
       "  'NominalLength': 'NominalLength',\n",
       "  'NominalWidth': 'NominalWidth',\n",
       "  'ProductionYear': 'ProductionYear',\n",
       "  'Reference': 'Reference',\n",
       "  'Shape': 'Shape',\n",
       "  'Size': 'Size',\n",
       "  'SustainabilityPerformance': 'SustainabilityPerformance',\n",
       "  'WarrantyDescription': 'WarrantyDescription',\n",
       "  'WarrantyDurationLabor': 'WarrantyDurationLabor',\n",
       "  'WarrantyDurationParts': 'WarrantyDurationParts',\n",
       "  'WarrantyGuarantorLabor': 'WarrantyGuarantorLabor',\n",
       "  'WarrantyGuarantorParts': 'WarrantyGuarantorParts',\n",
       "  'ExpectedLife': 'ExpectedLife',\n",
       "  'ReplacementCost': 'ReplacementCost',\n",
       "  'AssetAccountingType': 'FIXED',\n",
       "  'Classification Description': 'Concrete Structural Walls',\n",
       "  'Classification Code': '23-25 30 24 11',\n",
       "  'ModelLabel': 'ModelLabel'}}"
      ]
     },
     "execution_count": 31,
     "metadata": {},
     "output_type": "execute_result"
    }
   ],
   "source": [
    "wall\n",
    "pset_for_wall = ifcopenshell.util.element.get_psets(wall)\n",
    "pset_for_wall"
   ]
  },
  {
   "cell_type": "markdown",
   "metadata": {},
   "source": [
    "## Find external walls.\n",
    "External walls in IFC-models should be have a value `True` for the property  **IsExternal**  in the standard \"Pset_WallCommon\". \n",
    "\n",
    "All external walls can be found by iterating over **all walls** and checking each one for the approriate value.\n",
    "\n",
    "Since **IsExternal** return strings \"True\" or \"False\" we can cast them to pyton  `bool`."
   ]
  },
  {
   "cell_type": "code",
   "execution_count": null,
   "metadata": {},
   "outputs": [],
   "source": []
  },
  {
   "cell_type": "code",
   "execution_count": 35,
   "metadata": {},
   "outputs": [
    {
     "data": {
      "text/plain": [
       "23"
      ]
     },
     "execution_count": 35,
     "metadata": {},
     "output_type": "execute_result"
    }
   ],
   "source": [
    "ext_walls = []\n",
    "for w in walls:\n",
    "    psets = ifcopenshell.util.element.get_psets(w)\n",
    "    if psets.get(\"Pset_WallCommon\"):\n",
    "        if bool(psets.get(\"Pset_WallCommon\").get(\"IsExternal\")):\n",
    "            ext_walls.append(w)\n",
    "\n",
    "len (ext_walls)"
   ]
  },
  {
   "cell_type": "code",
   "execution_count": 36,
   "metadata": {},
   "outputs": [
    {
     "data": {
      "application/vnd.jupyter.widget-view+json": {
       "model_id": "04cfe9097a9f4cbb8cbcf40c8bc4fdb1",
       "version_major": 2,
       "version_minor": 0
      },
      "text/plain": [
       "HBox(children=(VBox(children=(HBox(children=(Checkbox(value=True, description='Axes', layout=Layout(height='au…"
      ]
     },
     "metadata": {},
     "output_type": "display_data"
    },
    {
     "data": {
      "text/plain": []
     },
     "execution_count": 36,
     "metadata": {},
     "output_type": "execute_result"
    }
   ],
   "source": [
    "from utils.JupyterIFCRenderer import JupyterIFCRenderer\n",
    "viewer = JupyterIFCRenderer(m, size=(400,300))\n",
    "viewer"
   ]
  },
  {
   "cell_type": "code",
   "execution_count": 37,
   "metadata": {},
   "outputs": [],
   "source": [
    "viewer.setAllTransparent()"
   ]
  },
  {
   "cell_type": "code",
   "execution_count": 38,
   "metadata": {},
   "outputs": [],
   "source": [
    "for wall in ext_walls:\n",
    "    viewer.setTransparentFalse(wall)\n",
    "    "
   ]
  },
  {
   "cell_type": "code",
   "execution_count": 33,
   "metadata": {},
   "outputs": [
    {
     "ename": "NameError",
     "evalue": "name 'ext_wall' is not defined",
     "output_type": "error",
     "traceback": [
      "\u001b[0;31m---------------------------------------------------------------------------\u001b[0m",
      "\u001b[0;31mNameError\u001b[0m                                 Traceback (most recent call last)",
      "\u001b[0;32m<ipython-input-33-c77cc8a17401>\u001b[0m in \u001b[0;36m<module>\u001b[0;34m\u001b[0m\n\u001b[0;32m----> 1\u001b[0;31m \u001b[0mwall\u001b[0m \u001b[0;34m=\u001b[0m \u001b[0mext_wall\u001b[0m\u001b[0;34m[\u001b[0m\u001b[0;36m10\u001b[0m\u001b[0;34m]\u001b[0m\u001b[0;34m\u001b[0m\u001b[0;34m\u001b[0m\u001b[0m\n\u001b[0m\u001b[1;32m      2\u001b[0m \u001b[0mwall\u001b[0m\u001b[0;34m\u001b[0m\u001b[0;34m\u001b[0m\u001b[0m\n",
      "\u001b[0;31mNameError\u001b[0m: name 'ext_wall' is not defined"
     ]
    }
   ],
   "source": [
    "wall = ext_wall[10]\n",
    "wall"
   ]
  },
  {
   "cell_type": "code",
   "execution_count": 196,
   "metadata": {},
   "outputs": [
    {
     "data": {
      "text/plain": [
       "[#10969=IfcRelContainedInSpatialStructure('1QPtU1ucskO7mlP9ScHMsN',#12,$,$,(#10954,#11059,#11130,#11201,#11272,#11373,#11497,#11586,#11675,#11764,#11873,#12402,#12514,#12827,#12935,#13044,#13152,#13256,#13409,#13504,#14002,#14097,#14241,#14335,#14479,#14574,#14718,#14812,#14929,#15043,#15147,#15256,#15405,#15500,#15612,#15764,#15859,#15963,#16116,#16210,#16363,#16458,#16624,#16728,#16883,#16978,#17131,#17225,#17369,#17463,#17615,#17709,#17861,#17955,#18104,#18199,#18352,#18446,#18557,#18713,#21073,#21144,#21215,#21286,#21357,#21448,#21537,#21626,#21715,#21804,#21903,#22047,#22142,#22286,#22380,#22489,#22597,#22701,#22854,#22949,#23101,#23196,#23340,#23434,#23578,#23673,#23817,#23911,#24028,#24142,#24246,#24355,#24504,#24599,#24711,#24863,#24958,#25062,#25215,#25309,#25462,#25557,#25706,#25800,#25955,#26050,#26203,#26297,#26441,#26535,#26687,#26781,#26933,#27027,#27176,#27271,#27424,#27518,#27629,#27785),#9157),\n",
       " #12015=IfcRelDefinesByType('2McTMWPPnWcLY_7w4bU6l0',#12,$,$,(#11873,#12935,#13044,#13152,#13256,#13504,#14335,#14812,#14929,#15043,#15147,#15256,#15500,#15612,#15859,#16210,#16728,#17955,#18446,#18557,#21903,#22380,#22489,#22597,#22701,#22949,#23434,#23911,#24028,#24142,#24246,#24355,#24599,#24711,#24958,#25309,#25800,#27027,#27518,#27629),#12000),\n",
       " #15152=IfcRelAssociatesMaterial('04F1OacTbSS8uB2HixIaSU',#12,$,$,(#15147),#15151),\n",
       " #15156=IfcRelConnectsPathElements('2LiARU0Nu0B1c38lSuEyQD',#12,$,$,$,#15147,#14574,(),(),.ATSTART.,.ATPATH.),\n",
       " #15170=IfcRelDefinesByProperties('0nEsg1XQOVXeZc_lqMgwB6',#12,$,$,(#15147),#15165),\n",
       " #15185=IfcRelDefinesByProperties('1ddHQJ7$o8QrMs8VfiUVsG',#12,$,$,(#15147),#15183),\n",
       " #15265=IfcRelConnectsPathElements('1Zbk313CFD5ck_DrSEfsnV',#12,$,$,$,#15256,#15147,(),(),.ATEND.,.ATSTART.),\n",
       " #15621=IfcRelConnectsPathElements('3tf_7PDpm9BiExkjyrSSb7',#12,$,$,$,#15612,#15147,(),(),.ATSTART.,.ATEND.),\n",
       " #159834=IfcRelSpaceBoundary('3vJqCS0$GyAIx_u11eDc4k',#12,'2ndLevel','2a',#20364,#15147,#159833,.PHYSICAL.,.EXTERNAL.),\n",
       " #160118=IfcRelSpaceBoundary('1JB8_OYkxccH345eOS$8xk',#12,'2ndLevel','2a',#20513,#15147,#160117,.PHYSICAL.,.EXTERNAL.)]"
      ]
     },
     "execution_count": 196,
     "metadata": {},
     "output_type": "execute_result"
    }
   ],
   "source": [
    "m.get_inverse(wand)"
   ]
  },
  {
   "cell_type": "code",
   "execution_count": 199,
   "metadata": {},
   "outputs": [
    {
     "data": {
      "image/svg+xml": [
       "<?xml version=\"1.0\" encoding=\"UTF-8\" standalone=\"no\"?>\n",
       "<!DOCTYPE svg PUBLIC \"-//W3C//DTD SVG 1.1//EN\"\n",
       " \"http://www.w3.org/Graphics/SVG/1.1/DTD/svg11.dtd\">\n",
       "<!-- Generated by graphviz version 2.42.3 (20191010.1750)\n",
       " -->\n",
       "<!-- Title: %3 Pages: 1 -->\n",
       "<svg width=\"977pt\" height=\"385pt\"\n",
       " viewBox=\"0.00 0.00 977.00 385.00\" xmlns=\"http://www.w3.org/2000/svg\" xmlns:xlink=\"http://www.w3.org/1999/xlink\">\n",
       "<g id=\"graph0\" class=\"graph\" transform=\"scale(1 1) rotate(0) translate(4 381)\">\n",
       "<title>%3</title>\n",
       "<polygon fill=\"white\" stroke=\"transparent\" points=\"-4,4 -4,-381 973,-381 973,4 -4,4\"/>\n",
       "<!-- 1 -->\n",
       "<g id=\"node1\" class=\"node\">\n",
       "<title>1</title>\n",
       "<polygon fill=\"none\" stroke=\"black\" points=\"861,-269.5 861,-376.5 956,-376.5 956,-269.5 861,-269.5\"/>\n",
       "<text text-anchor=\"middle\" x=\"908.5\" y=\"-366.1\" font-family=\"Arial\" font-size=\"8.00\">#1 </text>\n",
       "<text text-anchor=\"middle\" x=\"908.5\" y=\"-357.1\" font-family=\"Arial\" font-size=\"8.00\">(IfcPerson) </text>\n",
       "<text text-anchor=\"start\" x=\"869\" y=\"-339.1\" font-family=\"Arial\" font-size=\"8.00\">Identification : None </text>\n",
       "<text text-anchor=\"start\" x=\"869\" y=\"-330.1\" font-family=\"Arial\" font-size=\"8.00\">FamilyName : None </text>\n",
       "<text text-anchor=\"start\" x=\"869\" y=\"-321.1\" font-family=\"Arial\" font-size=\"8.00\">GivenName : KHH </text>\n",
       "<text text-anchor=\"start\" x=\"869\" y=\"-312.1\" font-family=\"Arial\" font-size=\"8.00\">MiddleNames : None </text>\n",
       "<text text-anchor=\"start\" x=\"869\" y=\"-303.1\" font-family=\"Arial\" font-size=\"8.00\">PrefixTitles : None </text>\n",
       "<text text-anchor=\"start\" x=\"869\" y=\"-294.1\" font-family=\"Arial\" font-size=\"8.00\">SuffixTitles : None </text>\n",
       "<text text-anchor=\"start\" x=\"869\" y=\"-285.1\" font-family=\"Arial\" font-size=\"8.00\">Roles : None </text>\n",
       "<text text-anchor=\"start\" x=\"869\" y=\"-276.1\" font-family=\"Arial\" font-size=\"8.00\">Addresses : None </text>\n",
       "</g>\n",
       "<!-- 7 -->\n",
       "<g id=\"node2\" class=\"node\">\n",
       "<title>7</title>\n",
       "<polygon fill=\"none\" stroke=\"black\" points=\"552,-188 552,-232 673,-232 673,-188 552,-188\"/>\n",
       "<text text-anchor=\"middle\" x=\"612.5\" y=\"-221.6\" font-family=\"Arial\" font-size=\"8.00\">#7 </text>\n",
       "<text text-anchor=\"middle\" x=\"612.5\" y=\"-212.6\" font-family=\"Arial\" font-size=\"8.00\">(IfcPersonAndOrganization) </text>\n",
       "<text text-anchor=\"start\" x=\"560\" y=\"-194.6\" font-family=\"Arial\" font-size=\"8.00\">Roles : None </text>\n",
       "</g>\n",
       "<!-- 7&#45;&gt;1 -->\n",
       "<g id=\"edge1\" class=\"edge\">\n",
       "<title>7&#45;&gt;1</title>\n",
       "<path fill=\"none\" stroke=\"black\" d=\"M670.88,-232.06C723.11,-252.13 799.75,-281.59 851.53,-301.49\"/>\n",
       "<polygon fill=\"black\" stroke=\"black\" points=\"850.31,-304.77 860.9,-305.09 852.82,-298.23 850.31,-304.77\"/>\n",
       "<text text-anchor=\"middle\" x=\"791.5\" y=\"-294.6\" font-family=\"Arial\" font-size=\"8.00\">ThePerson</text>\n",
       "</g>\n",
       "<!-- 3 -->\n",
       "<g id=\"node3\" class=\"node\">\n",
       "<title>3</title>\n",
       "<polygon fill=\"none\" stroke=\"black\" points=\"860,-170 860,-250 957,-250 957,-170 860,-170\"/>\n",
       "<text text-anchor=\"middle\" x=\"908.5\" y=\"-239.6\" font-family=\"Arial\" font-size=\"8.00\">#3 </text>\n",
       "<text text-anchor=\"middle\" x=\"908.5\" y=\"-230.6\" font-family=\"Arial\" font-size=\"8.00\">(IfcOrganization) </text>\n",
       "<text text-anchor=\"start\" x=\"868\" y=\"-212.6\" font-family=\"Arial\" font-size=\"8.00\">Identification : None </text>\n",
       "<text text-anchor=\"start\" x=\"868\" y=\"-203.6\" font-family=\"Arial\" font-size=\"8.00\">Name : Nicht definiert </text>\n",
       "<text text-anchor=\"start\" x=\"868\" y=\"-194.6\" font-family=\"Arial\" font-size=\"8.00\">Description : None </text>\n",
       "<text text-anchor=\"start\" x=\"868\" y=\"-185.6\" font-family=\"Arial\" font-size=\"8.00\">Roles : None </text>\n",
       "<text text-anchor=\"start\" x=\"868\" y=\"-176.6\" font-family=\"Arial\" font-size=\"8.00\">Addresses : None </text>\n",
       "</g>\n",
       "<!-- 7&#45;&gt;3 -->\n",
       "<g id=\"edge2\" class=\"edge\">\n",
       "<title>7&#45;&gt;3</title>\n",
       "<path fill=\"none\" stroke=\"black\" d=\"M673.35,-210C724.87,-210 798.74,-210 849.67,-210\"/>\n",
       "<polygon fill=\"black\" stroke=\"black\" points=\"849.85,-213.5 859.85,-210 849.85,-206.5 849.85,-213.5\"/>\n",
       "<text text-anchor=\"middle\" x=\"791.5\" y=\"-212.6\" font-family=\"Arial\" font-size=\"8.00\">TheOrganization</text>\n",
       "</g>\n",
       "<!-- 12 -->\n",
       "<g id=\"node4\" class=\"node\">\n",
       "<title>12</title>\n",
       "<polygon fill=\"none\" stroke=\"black\" points=\"253,-90.5 253,-179.5 387,-179.5 387,-90.5 253,-90.5\"/>\n",
       "<text text-anchor=\"middle\" x=\"320\" y=\"-169.1\" font-family=\"Arial\" font-size=\"8.00\">#12 </text>\n",
       "<text text-anchor=\"middle\" x=\"320\" y=\"-160.1\" font-family=\"Arial\" font-size=\"8.00\">(IfcOwnerHistory) </text>\n",
       "<text text-anchor=\"start\" x=\"261\" y=\"-142.1\" font-family=\"Arial\" font-size=\"8.00\">State : None </text>\n",
       "<text text-anchor=\"start\" x=\"261\" y=\"-133.1\" font-family=\"Arial\" font-size=\"8.00\">ChangeAction : ADDED </text>\n",
       "<text text-anchor=\"start\" x=\"261\" y=\"-124.1\" font-family=\"Arial\" font-size=\"8.00\">LastModifiedDate : None </text>\n",
       "<text text-anchor=\"start\" x=\"261\" y=\"-115.1\" font-family=\"Arial\" font-size=\"8.00\">LastModifyingUser : None </text>\n",
       "<text text-anchor=\"start\" x=\"261\" y=\"-106.1\" font-family=\"Arial\" font-size=\"8.00\">LastModifyingApplication : None </text>\n",
       "<text text-anchor=\"start\" x=\"261\" y=\"-97.1\" font-family=\"Arial\" font-size=\"8.00\">CreationDate : 1485162052 </text>\n",
       "</g>\n",
       "<!-- 12&#45;&gt;7 -->\n",
       "<g id=\"edge3\" class=\"edge\">\n",
       "<title>12&#45;&gt;7</title>\n",
       "<path fill=\"none\" stroke=\"black\" d=\"M387.28,-152.11C433.56,-164.06 495.2,-179.97 542.14,-192.09\"/>\n",
       "<polygon fill=\"black\" stroke=\"black\" points=\"541.36,-195.51 551.92,-194.62 543.11,-188.73 541.36,-195.51\"/>\n",
       "<text text-anchor=\"middle\" x=\"438.5\" y=\"-174.6\" font-family=\"Arial\" font-size=\"8.00\">OwningUser</text>\n",
       "</g>\n",
       "<!-- 11 -->\n",
       "<g id=\"node6\" class=\"node\">\n",
       "<title>11</title>\n",
       "<polygon fill=\"none\" stroke=\"black\" points=\"490,-93 490,-155 735,-155 735,-93 490,-93\"/>\n",
       "<text text-anchor=\"middle\" x=\"612.5\" y=\"-144.6\" font-family=\"Arial\" font-size=\"8.00\">#11 </text>\n",
       "<text text-anchor=\"middle\" x=\"612.5\" y=\"-135.6\" font-family=\"Arial\" font-size=\"8.00\">(IfcApplication) </text>\n",
       "<text text-anchor=\"start\" x=\"498\" y=\"-117.6\" font-family=\"Arial\" font-size=\"8.00\">Version : 20.0.0 </text>\n",
       "<text text-anchor=\"start\" x=\"498\" y=\"-108.6\" font-family=\"Arial\" font-size=\"8.00\">ApplicationFullName : ARCHICAD&#45;64 </text>\n",
       "<text text-anchor=\"start\" x=\"498\" y=\"-99.6\" font-family=\"Arial\" font-size=\"8.00\">ApplicationIdentifier : IFC2x3 add&#45;on version: 4020 GER FULL </text>\n",
       "</g>\n",
       "<!-- 12&#45;&gt;11 -->\n",
       "<g id=\"edge5\" class=\"edge\">\n",
       "<title>12&#45;&gt;11</title>\n",
       "<path fill=\"none\" stroke=\"black\" d=\"M387.28,-132.49C414.71,-131.45 447.53,-130.21 479.49,-129\"/>\n",
       "<polygon fill=\"black\" stroke=\"black\" points=\"479.97,-132.48 489.83,-128.61 479.7,-125.49 479.97,-132.48\"/>\n",
       "<text text-anchor=\"middle\" x=\"438.5\" y=\"-133.6\" font-family=\"Arial\" font-size=\"8.00\">OwningApplication</text>\n",
       "</g>\n",
       "<!-- 10 -->\n",
       "<g id=\"node5\" class=\"node\">\n",
       "<title>10</title>\n",
       "<polygon fill=\"none\" stroke=\"black\" points=\"848,-71 848,-151 969,-151 969,-71 848,-71\"/>\n",
       "<text text-anchor=\"middle\" x=\"908.5\" y=\"-140.6\" font-family=\"Arial\" font-size=\"8.00\">#10 </text>\n",
       "<text text-anchor=\"middle\" x=\"908.5\" y=\"-131.6\" font-family=\"Arial\" font-size=\"8.00\">(IfcOrganization) </text>\n",
       "<text text-anchor=\"start\" x=\"856\" y=\"-113.6\" font-family=\"Arial\" font-size=\"8.00\">Identification : GS </text>\n",
       "<text text-anchor=\"start\" x=\"856\" y=\"-104.6\" font-family=\"Arial\" font-size=\"8.00\">Name : GRAPHISOFT </text>\n",
       "<text text-anchor=\"start\" x=\"856\" y=\"-95.6\" font-family=\"Arial\" font-size=\"8.00\">Description : GRAPHISOFT </text>\n",
       "<text text-anchor=\"start\" x=\"856\" y=\"-86.6\" font-family=\"Arial\" font-size=\"8.00\">Roles : None </text>\n",
       "<text text-anchor=\"start\" x=\"856\" y=\"-77.6\" font-family=\"Arial\" font-size=\"8.00\">Addresses : None </text>\n",
       "</g>\n",
       "<!-- 11&#45;&gt;10 -->\n",
       "<g id=\"edge4\" class=\"edge\">\n",
       "<title>11&#45;&gt;10</title>\n",
       "<path fill=\"none\" stroke=\"black\" d=\"M735.2,-118.62C770.12,-117.07 806.99,-115.44 837.63,-114.09\"/>\n",
       "<polygon fill=\"black\" stroke=\"black\" points=\"837.94,-117.58 847.77,-113.64 837.63,-110.59 837.94,-117.58\"/>\n",
       "<text text-anchor=\"middle\" x=\"791.5\" y=\"-119.6\" font-family=\"Arial\" font-size=\"8.00\">ApplicationDeveloper</text>\n",
       "</g>\n",
       "<!-- 15152 -->\n",
       "<g id=\"node7\" class=\"node\">\n",
       "<title>15152</title>\n",
       "<polygon fill=\"none\" stroke=\"black\" points=\"0,-54 0,-116 159,-116 159,-54 0,-54\"/>\n",
       "<text text-anchor=\"middle\" x=\"79.5\" y=\"-105.6\" font-family=\"Arial\" font-size=\"8.00\">#15152 </text>\n",
       "<text text-anchor=\"middle\" x=\"79.5\" y=\"-96.6\" font-family=\"Arial\" font-size=\"8.00\">(IfcRelAssociatesMaterial) </text>\n",
       "<text text-anchor=\"start\" x=\"8\" y=\"-78.6\" font-family=\"Arial\" font-size=\"8.00\">GlobalId : 04F1OacTbSS8uB2HixIaSU </text>\n",
       "<text text-anchor=\"start\" x=\"8\" y=\"-69.6\" font-family=\"Arial\" font-size=\"8.00\">Name : None </text>\n",
       "<text text-anchor=\"start\" x=\"8\" y=\"-60.6\" font-family=\"Arial\" font-size=\"8.00\">Description : None </text>\n",
       "</g>\n",
       "<!-- 15152&#45;&gt;12 -->\n",
       "<g id=\"edge6\" class=\"edge\">\n",
       "<title>15152&#45;&gt;12</title>\n",
       "<path fill=\"none\" stroke=\"black\" d=\"M159.25,-101.51C186.08,-107.14 216.02,-113.41 242.66,-118.99\"/>\n",
       "<polygon fill=\"black\" stroke=\"black\" points=\"242.18,-122.47 252.69,-121.1 243.62,-115.62 242.18,-122.47\"/>\n",
       "<text text-anchor=\"middle\" x=\"206\" y=\"-117.6\" font-family=\"Arial\" font-size=\"8.00\">OwnerHistory</text>\n",
       "</g>\n",
       "<!-- 15151 -->\n",
       "<g id=\"node9\" class=\"node\">\n",
       "<title>15151</title>\n",
       "<polygon fill=\"none\" stroke=\"black\" points=\"254,-0.5 254,-71.5 386,-71.5 386,-0.5 254,-0.5\"/>\n",
       "<text text-anchor=\"middle\" x=\"320\" y=\"-61.1\" font-family=\"Arial\" font-size=\"8.00\">#15151 </text>\n",
       "<text text-anchor=\"middle\" x=\"320\" y=\"-52.1\" font-family=\"Arial\" font-size=\"8.00\">(IfcMaterialLayerSetUsage) </text>\n",
       "<text text-anchor=\"start\" x=\"262\" y=\"-34.1\" font-family=\"Arial\" font-size=\"8.00\">LayerSetDirection : AXIS2 </text>\n",
       "<text text-anchor=\"start\" x=\"262\" y=\"-25.1\" font-family=\"Arial\" font-size=\"8.00\">DirectionSense : NEGATIVE </text>\n",
       "<text text-anchor=\"start\" x=\"262\" y=\"-16.1\" font-family=\"Arial\" font-size=\"8.00\">OffsetFromReferenceLine : 0.0 </text>\n",
       "<text text-anchor=\"start\" x=\"262\" y=\"-7.1\" font-family=\"Arial\" font-size=\"8.00\">ReferenceExtent : None </text>\n",
       "</g>\n",
       "<!-- 15152&#45;&gt;15151 -->\n",
       "<g id=\"edge8\" class=\"edge\">\n",
       "<title>15152&#45;&gt;15151</title>\n",
       "<path fill=\"none\" stroke=\"black\" d=\"M159.25,-68.82C186.45,-63.23 216.82,-56.99 243.73,-51.46\"/>\n",
       "<polygon fill=\"black\" stroke=\"black\" points=\"244.76,-54.82 253.86,-49.38 243.36,-47.97 244.76,-54.82\"/>\n",
       "<text text-anchor=\"middle\" x=\"206\" y=\"-67.6\" font-family=\"Arial\" font-size=\"8.00\">RelatingMaterial</text>\n",
       "</g>\n",
       "<!-- 11894 -->\n",
       "<g id=\"node8\" class=\"node\">\n",
       "<title>11894</title>\n",
       "<polygon fill=\"none\" stroke=\"black\" points=\"523,-9.5 523,-62.5 702,-62.5 702,-9.5 523,-9.5\"/>\n",
       "<text text-anchor=\"middle\" x=\"612.5\" y=\"-52.1\" font-family=\"Arial\" font-size=\"8.00\">#11894 </text>\n",
       "<text text-anchor=\"middle\" x=\"612.5\" y=\"-43.1\" font-family=\"Arial\" font-size=\"8.00\">(IfcMaterialLayerSet) </text>\n",
       "<text text-anchor=\"start\" x=\"531\" y=\"-25.1\" font-family=\"Arial\" font-size=\"8.00\">LayerSetName : Stahlbeton 2816491304 0.2 </text>\n",
       "<text text-anchor=\"start\" x=\"531\" y=\"-16.1\" font-family=\"Arial\" font-size=\"8.00\">Description : None </text>\n",
       "</g>\n",
       "<!-- 15151&#45;&gt;11894 -->\n",
       "<g id=\"edge7\" class=\"edge\">\n",
       "<title>15151&#45;&gt;11894</title>\n",
       "<path fill=\"none\" stroke=\"black\" d=\"M386.19,-36C423.44,-36 470.9,-36 512.64,-36\"/>\n",
       "<polygon fill=\"black\" stroke=\"black\" points=\"512.84,-39.5 522.84,-36 512.84,-32.5 512.84,-39.5\"/>\n",
       "<text text-anchor=\"middle\" x=\"438.5\" y=\"-38.6\" font-family=\"Arial\" font-size=\"8.00\">ForLayerSet</text>\n",
       "</g>\n",
       "</g>\n",
       "</svg>\n"
      ],
      "text/plain": [
       "<graphviz.dot.Digraph at 0x7fbd01f03390>"
      ]
     },
     "execution_count": 199,
     "metadata": {},
     "output_type": "execute_result"
    }
   ],
   "source": [
    "graph = IfcGraphViz.IfcGraphViz().plot_graph(m, m.by_id(15152), forward=10)\n",
    "graph"
   ]
  },
  {
   "cell_type": "code",
   "execution_count": 200,
   "metadata": {},
   "outputs": [
    {
     "data": {
      "text/plain": [
       "#11894=IfcMaterialLayerSet((#11893),'Stahlbeton 2816491304 0.2',$)"
      ]
     },
     "execution_count": 200,
     "metadata": {},
     "output_type": "execute_result"
    }
   ],
   "source": [
    "schichten = m.by_id(11894)\n",
    "schichten"
   ]
  },
  {
   "cell_type": "code",
   "execution_count": 202,
   "metadata": {},
   "outputs": [
    {
     "data": {
      "text/plain": [
       "#11877=IfcMaterial('Stahlbeton 2816491304',$,$)"
      ]
     },
     "execution_count": 202,
     "metadata": {},
     "output_type": "execute_result"
    }
   ],
   "source": [
    "m.by_id(11877)"
   ]
  },
  {
   "cell_type": "code",
   "execution_count": 187,
   "metadata": {},
   "outputs": [
    {
     "data": {
      "text/html": [
       "\n",
       "        <iframe\n",
       "            width=\"100%\"\n",
       "            height=\"500px\"\n",
       "            src=\"https://standards.buildingsmart.org/IFC/RELEASE/IFC2x3/TC1/HTML/ifcproductextension/lexical/ifcrelassociatesmaterial.htm\"\n",
       "            frameborder=\"0\"\n",
       "            allowfullscreen\n",
       "        ></iframe>\n",
       "        "
      ],
      "text/plain": [
       "<IPython.lib.display.IFrame at 0x7fbd35b6a7d0>"
      ]
     },
     "execution_count": 187,
     "metadata": {},
     "output_type": "execute_result"
    }
   ],
   "source": [
    "IfcHelp.getHelp3(\"IfcRelAssociatesMaterial\")"
   ]
  },
  {
   "cell_type": "code",
   "execution_count": null,
   "metadata": {},
   "outputs": [],
   "source": [
    "ifcopenshell.util.element.get_psets(wand)"
   ]
  },
  {
   "cell_type": "code",
   "execution_count": null,
   "metadata": {},
   "outputs": [],
   "source": [
    "for inv in m.get_inverse(wand):\n",
    "    if inv.is_a() == \"IfcRelAssociatesMaterial\":\n",
    "        print (inv)\n",
    "        mat_assoc = inv"
   ]
  },
  {
   "cell_type": "code",
   "execution_count": null,
   "metadata": {},
   "outputs": [],
   "source": [
    "IfcHelp.getHelp3(\"IfcRelAssociatesMaterial\")"
   ]
  },
  {
   "cell_type": "code",
   "execution_count": null,
   "metadata": {},
   "outputs": [],
   "source": [
    "mat_assoc.RelatingMaterial.ForLayerSet.MaterialLayers[0].Material"
   ]
  },
  {
   "cell_type": "code",
   "execution_count": 203,
   "metadata": {},
   "outputs": [
    {
     "name": "stdout",
     "output_type": "stream",
     "text": [
      "Gesamtvolument: 463.63364507416964\n"
     ]
    }
   ],
   "source": [
    "gesamtvolumen = 0\n",
    "for w in ausssenwaende:\n",
    "    psets = ifcopenshell.util.element.get_psets(w)\n",
    "    for psetname, pset_dict in psets.items():\n",
    "        for name, value in pset_dict.items():\n",
    "            # print (f\"{name}: {value}\")\n",
    "            if name == \"NetVolume\":\n",
    "                gesamtvolumen += float(value)\n",
    "print (f\"Gesamtvolumen: {gesamtvolumen}\")               "
   ]
  }
 ],
 "metadata": {
  "kernelspec": {
   "display_name": "Python 3",
   "language": "python",
   "name": "python3"
  },
  "language_info": {
   "codemirror_mode": {
    "name": "ipython",
    "version": 3
   },
   "file_extension": ".py",
   "mimetype": "text/x-python",
   "name": "python",
   "nbconvert_exporter": "python",
   "pygments_lexer": "ipython3",
   "version": "3.7.8"
  }
 },
 "nbformat": 4,
 "nbformat_minor": 4
}
